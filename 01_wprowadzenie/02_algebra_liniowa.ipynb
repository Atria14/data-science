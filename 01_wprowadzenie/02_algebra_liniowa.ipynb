{
  "nbformat": 4,
  "nbformat_minor": 0,
  "metadata": {
    "colab": {
      "provenance": [],
      "authorship_tag": "ABX9TyOEUFhoVQmuUza6xqLnjlu9",
      "include_colab_link": true
    },
    "kernelspec": {
      "name": "python3",
      "display_name": "Python 3"
    },
    "language_info": {
      "name": "python"
    }
  },
  "cells": [
    {
      "cell_type": "markdown",
      "metadata": {
        "id": "view-in-github",
        "colab_type": "text"
      },
      "source": [
        "<a href=\"https://colab.research.google.com/github/Atria14/data-science/blob/main/01_wprowadzenie/02_algebra_liniowa.ipynb\" target=\"_parent\"><img src=\"https://colab.research.google.com/assets/colab-badge.svg\" alt=\"Open In Colab\"/></a>"
      ]
    },
    {
      "cell_type": "code",
      "source": [
        "import numpy as np"
      ],
      "metadata": {
        "id": "LSEuqRlGXcEV"
      },
      "execution_count": 2,
      "outputs": []
    },
    {
      "cell_type": "markdown",
      "source": [
        "### <a name='a1'></a> Norma wektora, długość wektora w $R^{2}$\n",
        "\n",
        "${\\mathbf  {v}} = [v_{1}, v_{2}]$   \n",
        "$\\left\\|{\\mathbf  {v}}\\right\\|={\\sqrt  {v_{1}^{2}+v_{2}^{2}}}$"
      ],
      "metadata": {
        "id": "_NOIzumdXjip"
      }
    },
    {
      "cell_type": "code",
      "source": [
        "v1 = np.array([-1, 4])\n",
        "v1"
      ],
      "metadata": {
        "colab": {
          "base_uri": "https://localhost:8080/"
        },
        "id": "wyC8mNHNXtoJ",
        "outputId": "15e01cc3-ff41-4d80-d93a-5af03d6556e5"
      },
      "execution_count": 3,
      "outputs": [
        {
          "output_type": "execute_result",
          "data": {
            "text/plain": [
              "array([-1,  4])"
            ]
          },
          "metadata": {},
          "execution_count": 3
        }
      ]
    },
    {
      "cell_type": "code",
      "execution_count": 4,
      "metadata": {
        "colab": {
          "base_uri": "https://localhost:8080/"
        },
        "id": "r7DUZHdTWmgI",
        "outputId": "d7ab6fda-21ef-4fdc-979a-5f46a1ad4965"
      },
      "outputs": [
        {
          "output_type": "execute_result",
          "data": {
            "text/plain": [
              "4.123105625617661"
            ]
          },
          "metadata": {},
          "execution_count": 4
        }
      ],
      "source": [
        "np.linalg.norm(v1)"
      ]
    },
    {
      "cell_type": "markdown",
      "source": [
        "### <a name='a2'></a> Norma euklidesowa w $R^{n}$\n",
        "\n",
        "$\\left\\|{\\mathbf  {v}}\\right\\|={\\sqrt  {v_{1}^{2}+v_{2}^{2}+\\cdots +v_{n}^{2}}}$"
      ],
      "metadata": {
        "id": "zFs6iDb-X1U-"
      }
    },
    {
      "cell_type": "code",
      "source": [
        "v2 = np.array([-10, 10, 13])\n",
        "np.linalg.norm(v2)"
      ],
      "metadata": {
        "colab": {
          "base_uri": "https://localhost:8080/"
        },
        "id": "bDV3xxNmWnXQ",
        "outputId": "7eabf6e7-51a4-45bb-d12f-eb0017131467"
      },
      "execution_count": 5,
      "outputs": [
        {
          "output_type": "execute_result",
          "data": {
            "text/plain": [
              "19.209372712298546"
            ]
          },
          "metadata": {},
          "execution_count": 5
        }
      ]
    },
    {
      "cell_type": "markdown",
      "source": [
        "ODLEGŁOŚĆ DWÓCH PUNKTÓW NA PŁASZCZYŹNIE"
      ],
      "metadata": {
        "id": "3wHw1nftYl2g"
      }
    },
    {
      "cell_type": "code",
      "source": [
        "p = np.array([3, 0]) # PUNKT O WSPÓŁRZĘDNCH 3,0\n",
        "q = np.array([0, 4]) # PUNKT O WSPÓŁRZĘDNCH 0,4\n",
        "\n",
        "np.linalg.norm(p - q) #ODEJMUJEMY OD PUNKTU P PUNKT Q I LICZYMY DŁUGOŚĆ WEKTORA"
      ],
      "metadata": {
        "colab": {
          "base_uri": "https://localhost:8080/"
        },
        "id": "p6vUUVCqYyb8",
        "outputId": "69ba533e-7e67-489c-c79e-2ba299000702"
      },
      "execution_count": 6,
      "outputs": [
        {
          "output_type": "execute_result",
          "data": {
            "text/plain": [
              "5.0"
            ]
          },
          "metadata": {},
          "execution_count": 6
        }
      ]
    },
    {
      "cell_type": "markdown",
      "source": [
        "### <a name='a4'></a> Odległóść dwóch punktów w przestrzeni $R^{n}$\n"
      ],
      "metadata": {
        "id": "aayyBklAYxUC"
      }
    },
    {
      "cell_type": "markdown",
      "source": [
        " \\begin{aligned}d(\\mathbf {p} ,\\mathbf {q} )=d(\\mathbf {q} ,\\mathbf {p} )&={\\sqrt {(q_{1}-p_{1})^{2}+(q_{2}-p_{2})^{2}+\\cdots +(q_{n}-p_{n})^{2}}}\\\\[8pt]&={\\sqrt {\\sum _{i=1}^{n}(q_{i}-p_{i})^{2}}}\\end{aligned}\n",
        "\n"
      ],
      "metadata": {
        "id": "qgDooaoQYuOn"
      }
    },
    {
      "cell_type": "code",
      "source": [
        "p = np.array([3, 0, 1]) # PUNKT O WSPÓŁRZĘDNCH 3,0, 1\n",
        "q = np.array([0, 4, 2]) # PUNKT O WSPÓŁRZĘDNCH 0,4, 2\n",
        "\n",
        "np.linalg.norm(p - q)"
      ],
      "metadata": {
        "colab": {
          "base_uri": "https://localhost:8080/"
        },
        "id": "ZmqGbMo0Yuwd",
        "outputId": "d55565d7-cdae-408f-8932-67411f78f35c"
      },
      "execution_count": 7,
      "outputs": [
        {
          "output_type": "execute_result",
          "data": {
            "text/plain": [
              "5.0990195135927845"
            ]
          },
          "metadata": {},
          "execution_count": 7
        }
      ]
    },
    {
      "cell_type": "markdown",
      "source": [
        "MNOŻENIE MACIERZY"
      ],
      "metadata": {
        "id": "tr7XuJilZhVG"
      }
    },
    {
      "cell_type": "code",
      "source": [],
      "metadata": {
        "id": "TiaKrw4bZcjO"
      },
      "execution_count": 7,
      "outputs": []
    },
    {
      "cell_type": "markdown",
      "source": [
        "### <a name='a5'></a> Mnożenie macierzy\n",
        "\n",
        "\n",
        "\n",
        "$${A} ={\\begin{bmatrix}a_{11}&a_{12}&\\cdots &a_{1n}\\\\a_{21}&a_{22}&\\cdots &a_{2n}\\\\\\vdots &\\vdots &\\ddots &\\vdots \\\\a_{m1}&a_{m2}&\\cdots &a_{mn}\\\\\\end{bmatrix}}$$\n",
        "A - macierz wymairu $m\\ x\\ n$\n",
        "\n",
        "$$ {B} ={\\begin{bmatrix}b_{11}&b_{12}&\\cdots &b_{1p}\\\\b_{21}&b_{22}&\\cdots &b_{2p}\\\\\\vdots &\\vdots &\\ddots &\\vdots \\\\b_{n1}&b_{n2}&\\cdots &b_{np}\\\\\\end{bmatrix}}$$\n",
        "B - macierz wymairu $n\\ x\\ p$\n",
        "\n",
        "$$C = AB$$ \n",
        "C - macierz wymiaru $m\\ x\\ p$  \n",
        "Aby móc pomnożyć dwie macierze liczba liczba kolumn w lewej macierzy musi zgadzać się z liczbą wierszy prawej macierzy.\n",
        "\n",
        "Mnożenie macierzy nie jest przemienne! Tzn. $$AB \\neq BA$$\n",
        "\n",
        "\n"
      ],
      "metadata": {
        "id": "Zu-c7RhKac0X"
      }
    },
    {
      "cell_type": "code",
      "source": [],
      "metadata": {
        "id": "mF0QC2UjadQc"
      },
      "execution_count": 7,
      "outputs": []
    },
    {
      "cell_type": "markdown",
      "source": [
        "### Przykład 1\n",
        "$ X = \\begin{bmatrix}5&3\\\\3&9\\end{bmatrix}$, $ Y= \\begin{bmatrix}1\\\\-1\\end{bmatrix} $  \n",
        "$X$ macierz 2x2  \n",
        "$Y$ macierz 2x1\n",
        "$$Z = X \\cdot Y = \\begin{bmatrix}5&3\\\\3&9\\end{bmatrix} \\cdot \\begin{bmatrix}1\\\\-1\\end{bmatrix} = \\begin{bmatrix}2\\\\-6\\end{bmatrix}$$\n",
        "$Z$ macierz 2x1\n"
      ],
      "metadata": {
        "id": "aInITDsnvK0D"
      }
    },
    {
      "cell_type": "code",
      "source": [
        "X = np.array([[5, 3], [3, 9]])\n",
        "Y = np.array([[1], [-1]])\n",
        "print(X, '\\n')\n",
        "print(Y)"
      ],
      "metadata": {
        "colab": {
          "base_uri": "https://localhost:8080/"
        },
        "id": "8NxiJoRTvFuB",
        "outputId": "c4fa4f04-5421-4e66-d04b-f0df8256a1d9"
      },
      "execution_count": 8,
      "outputs": [
        {
          "output_type": "stream",
          "name": "stdout",
          "text": [
            "[[5 3]\n",
            " [3 9]] \n",
            "\n",
            "[[ 1]\n",
            " [-1]]\n"
          ]
        }
      ]
    },
    {
      "cell_type": "code",
      "source": [
        "Z = np.dot(X, Y)\n",
        "Z"
      ],
      "metadata": {
        "colab": {
          "base_uri": "https://localhost:8080/"
        },
        "id": "oXlJfLIxvN-O",
        "outputId": "1442e615-459f-4ed8-f540-68fd77dc31f4"
      },
      "execution_count": 11,
      "outputs": [
        {
          "output_type": "execute_result",
          "data": {
            "text/plain": [
              "array([[ 2],\n",
              "       [-6]])"
            ]
          },
          "metadata": {},
          "execution_count": 11
        }
      ]
    },
    {
      "cell_type": "code",
      "source": [
        "Z.shape"
      ],
      "metadata": {
        "colab": {
          "base_uri": "https://localhost:8080/"
        },
        "id": "nOMqsmFavZIO",
        "outputId": "065de8fb-38c8-4cba-8180-1c3aa6a4ddee"
      },
      "execution_count": 12,
      "outputs": [
        {
          "output_type": "execute_result",
          "data": {
            "text/plain": [
              "(2, 1)"
            ]
          },
          "metadata": {},
          "execution_count": 12
        }
      ]
    },
    {
      "cell_type": "markdown",
      "source": [
        "### Przykład 2\n",
        "$X = \\begin{bmatrix}2&-1&3\\\\3&1&0\\end{bmatrix}$, $Y = \\begin{bmatrix}2&1&-1\\\\0&-1&2\\\\3&2&0\\end{bmatrix}$\n",
        "\n",
        "$X$ macierz 2x3  \n",
        "$Y$ macierz 3x3\n",
        "$$Z = X \\cdot Y =  \\begin{bmatrix}2&-1&3\\\\3&1&0\\end{bmatrix} \\cdot \\begin{bmatrix}2&1&-1\\\\0&-1&2\\\\3&2&0\\end{bmatrix} = \\begin{bmatrix}13&9&-4\\\\6&2&-1\\end{bmatrix}$$\n",
        "$Z$ macierz 2x3"
      ],
      "metadata": {
        "id": "QsnIGHk_v43W"
      }
    },
    {
      "cell_type": "code",
      "source": [
        "X = np.array([[2, -1, 3],\n",
        "              [3, 1, 0]])\n",
        "Y = np.array([[2, 1, -1],\n",
        "              [0, -1, 2],\n",
        "              [3, 2, 0]])\n",
        "\n",
        "print(X, '\\n')\n",
        "print(Y)"
      ],
      "metadata": {
        "colab": {
          "base_uri": "https://localhost:8080/"
        },
        "id": "D-nQ3aNhv9vZ",
        "outputId": "deaa9409-5eaa-4b4d-c7e2-2ed67299c776"
      },
      "execution_count": 13,
      "outputs": [
        {
          "output_type": "stream",
          "name": "stdout",
          "text": [
            "[[ 2 -1  3]\n",
            " [ 3  1  0]] \n",
            "\n",
            "[[ 2  1 -1]\n",
            " [ 0 -1  2]\n",
            " [ 3  2  0]]\n"
          ]
        }
      ]
    },
    {
      "cell_type": "code",
      "source": [
        "np.dot(X, Y)"
      ],
      "metadata": {
        "colab": {
          "base_uri": "https://localhost:8080/"
        },
        "id": "IHiH5xqlv-MN",
        "outputId": "df905cda-382f-43ac-ceee-452b0d70fccb"
      },
      "execution_count": 14,
      "outputs": [
        {
          "output_type": "execute_result",
          "data": {
            "text/plain": [
              "array([[13,  9, -4],\n",
              "       [ 6,  2, -1]])"
            ]
          },
          "metadata": {},
          "execution_count": 14
        }
      ]
    },
    {
      "cell_type": "markdown",
      "source": [
        "### <a name='a6'></a> Wyznacznik macierzy\n",
        "\n",
        "$${\\displaystyle A={\\begin{bmatrix}a_{11}&a_{12}&\\dots &a_{1n}\\\\a_{21}&a_{22}&\\dots &a_{2n}\\\\\\vdots &\\vdots &\\ddots &\\vdots \\\\a_{n1}&a_{n2}&\\dots &a_{nn}\\end{bmatrix}}}$$\n",
        "$A$ - macierz wymiaru nxn\n",
        "\n",
        "#### Oznaczenia:\n",
        "\n",
        "${\\displaystyle |A|=\\left|{\\begin{array}{c}a_{11}&a_{12}&\\dots &a_{1n}\\\\a_{21}&a_{22}&\\dots &a_{2n}\\\\\\vdots &\\vdots &\\ddots &\\vdots \\\\a_{n1}&a_{n2}&\\dots &a_{nn}\\end{array}}\\right|} $  lub  $ {\\displaystyle \\det A=\\det {\\begin{bmatrix}a_{11}&a_{12}&\\dots &a_{1n}\\\\a_{21}&a_{22}&\\dots &a_{2n}\\\\\\vdots &\\vdots &\\ddots &\\vdots \\\\a_{n1}&a_{n2}&\\dots &a_{nn}\\end{bmatrix}}}$\n",
        "\n",
        "#### Przykład:\n",
        "${\\displaystyle \\det A={\\begin{vmatrix}a_{11}&a_{12}\\\\a_{21}&a_{22}\\end{vmatrix}}=a_{11}a_{22}-a_{12}a_{21}}$\n",
        "\n",
        "${\\displaystyle \\det A={\\begin{vmatrix}a_{11}&a_{12}&a_{13}\\\\a_{21}&a_{22}&a_{23}\\\\a_{31}&a_{32}&a_{33}\\end{vmatrix}}=a_{11}a_{22}a_{33}+a_{21}a_{32}a_{13}+a_{31}a_{12}a_{23}-a_{21}a_{12}a_{33}-a_{11}a_{32}a_{23}-a_{31}a_{22}a_{13}}$\n",
        "\n",
        "${\\displaystyle \\det A={\\begin{vmatrix}2&4\\\\-1&3\\end{vmatrix}}=2\\cdot3-4\\cdot(-1)} = 6 + 4 = 10 $\n"
      ],
      "metadata": {
        "id": "TmUimVa7w5Lm"
      }
    },
    {
      "cell_type": "code",
      "source": [
        "A = np.array([[2, 4], [-1, 3]])\n",
        "round(np.linalg.det(A))  # det wyznacznik macierzy"
      ],
      "metadata": {
        "colab": {
          "base_uri": "https://localhost:8080/"
        },
        "id": "vwnLi2oHwBZx",
        "outputId": "caed1dcc-4105-4ebf-d867-3ffcdb0fd7b2"
      },
      "execution_count": 15,
      "outputs": [
        {
          "output_type": "execute_result",
          "data": {
            "text/plain": [
              "10"
            ]
          },
          "metadata": {},
          "execution_count": 15
        }
      ]
    },
    {
      "cell_type": "markdown",
      "source": [
        "### <a name='a7'></a> Ślad macierzy\n",
        "\n",
        "$${\\displaystyle A={\\begin{bmatrix}a_{11}&a_{12}&\\dots &a_{1n}\\\\a_{21}&a_{22}&\\dots &a_{2n}\\\\\\vdots &\\vdots &\\ddots &\\vdots \\\\a_{n1}&a_{n2}&\\dots &a_{nn}\\end{bmatrix}}}$$\n",
        "$A$ - macierz wymiaru nxn\n",
        "\n",
        "${\\displaystyle \\operatorname {tr} (A)=\\sum _{i=1}^{n}a_{ii}=a_{11}+a_{22}+\\dots +a_{nn}}$\n",
        "\n",
        "#### Przykład:\n",
        "$A = \\begin{bmatrix}2&4\\\\-1&3\\end{bmatrix}$\n",
        "\n",
        "${\\displaystyle \\operatorname {tr} (A)=\\sum _{i=1}^{2}a_{ii}=a_{11}+a_{22} = 2 + 3 = 5}$"
      ],
      "metadata": {
        "id": "syXinKWkxGpk"
      }
    },
    {
      "cell_type": "code",
      "source": [
        "A = np.array([[2, 4], [-1, 3]])\n",
        "np.trace(A)"
      ],
      "metadata": {
        "colab": {
          "base_uri": "https://localhost:8080/"
        },
        "id": "j_cAmmbaxBUh",
        "outputId": "cbf197db-934c-4024-d581-3020a5111b92"
      },
      "execution_count": 16,
      "outputs": [
        {
          "output_type": "execute_result",
          "data": {
            "text/plain": [
              "5"
            ]
          },
          "metadata": {},
          "execution_count": 16
        }
      ]
    },
    {
      "cell_type": "markdown",
      "source": [
        "###  <a name='a8'></a>  Macierz jednostkowa \n",
        "\n",
        "Macierz jednostkowa - macierz kwadratowa, której współczynniki podane są wzorem:\n",
        "$${\\displaystyle a_{ij}={\\begin{cases}1\\quad {\\text{dla}}\\quad i=j\\\\[2pt]0\\quad {\\text{dla}}\\quad i\\neq j\\end{cases}}}$$\n",
        "\n",
        "#### Przykłady\n",
        "${\\displaystyle I_{1}={\\begin{bmatrix}1\\end{bmatrix}},\\;I_{2}={\\begin{bmatrix}1&0\\\\0&1\\end{bmatrix}},\\;I_{3}={\\begin{bmatrix}1&0&0\\\\0&1&0\\\\0&0&1\\end{bmatrix}}}$"
      ],
      "metadata": {
        "id": "pw1Ro9iPxUwN"
      }
    },
    {
      "cell_type": "code",
      "source": [
        "np.eye(5, dtype='int')"
      ],
      "metadata": {
        "colab": {
          "base_uri": "https://localhost:8080/"
        },
        "id": "KJ1EcZzuxPS2",
        "outputId": "aa42f4ee-e1e2-4609-b639-5a7dd98bcde2"
      },
      "execution_count": 17,
      "outputs": [
        {
          "output_type": "execute_result",
          "data": {
            "text/plain": [
              "array([[1, 0, 0, 0, 0],\n",
              "       [0, 1, 0, 0, 0],\n",
              "       [0, 0, 1, 0, 0],\n",
              "       [0, 0, 0, 1, 0],\n",
              "       [0, 0, 0, 0, 1]])"
            ]
          },
          "metadata": {},
          "execution_count": 17
        }
      ]
    },
    {
      "cell_type": "code",
      "source": [
        "np.eye(5, 2)"
      ],
      "metadata": {
        "colab": {
          "base_uri": "https://localhost:8080/"
        },
        "id": "z-i4YeewxhCa",
        "outputId": "0aa798c6-9b8e-493b-e1b5-fa7ab89ef651"
      },
      "execution_count": 18,
      "outputs": [
        {
          "output_type": "execute_result",
          "data": {
            "text/plain": [
              "array([[1., 0.],\n",
              "       [0., 1.],\n",
              "       [0., 0.],\n",
              "       [0., 0.],\n",
              "       [0., 0.]])"
            ]
          },
          "metadata": {},
          "execution_count": 18
        }
      ]
    },
    {
      "cell_type": "markdown",
      "source": [
        "### <a name='a9'></a>  Macierz odwrotna\n",
        "\n",
        "$A$ - macierz kwadratowa stopnia $n$. Macierz $A$ posiada macierz odwrotną, gdy istnieje macierz $B$, taka, że\n",
        "$$AB = BA = I$$\n",
        "\n",
        "$A = \\begin{bmatrix}2&4\\\\-1&3\\end{bmatrix}$"
      ],
      "metadata": {
        "id": "0rdHk4kzxtWc"
      }
    },
    {
      "cell_type": "code",
      "source": [
        "B = np.linalg.inv(A)\n",
        "B"
      ],
      "metadata": {
        "colab": {
          "base_uri": "https://localhost:8080/"
        },
        "id": "DTpce2rnximn",
        "outputId": "d94d7fc3-5feb-4650-e99d-b40588e886c6"
      },
      "execution_count": 19,
      "outputs": [
        {
          "output_type": "execute_result",
          "data": {
            "text/plain": [
              "array([[ 0.3, -0.4],\n",
              "       [ 0.1,  0.2]])"
            ]
          },
          "metadata": {},
          "execution_count": 19
        }
      ]
    },
    {
      "cell_type": "code",
      "source": [
        "np.set_printoptions(precision=4, suppress=True)\n",
        "np.dot(B, A)"
      ],
      "metadata": {
        "colab": {
          "base_uri": "https://localhost:8080/"
        },
        "id": "PoAJNA4kxyD7",
        "outputId": "e2160701-9967-4ae4-cc61-662fdd75886e"
      },
      "execution_count": 23,
      "outputs": [
        {
          "output_type": "execute_result",
          "data": {
            "text/plain": [
              "array([[ 1., -0.],\n",
              "       [ 0.,  1.]])"
            ]
          },
          "metadata": {},
          "execution_count": 23
        }
      ]
    },
    {
      "cell_type": "markdown",
      "source": [
        "### <a name='a10'></a> Macierz transponowana\n",
        "\n",
        "Zamiana wierszy na kolumny i kolumny na wiersze.\n",
        "\n",
        "#### Przykład 1:\n",
        "\n",
        "$A = \\begin{bmatrix}2&4\\\\-1&3\\end{bmatrix}$,\n",
        "$A^{T} = \\begin{bmatrix}2&-1\\\\4&3\\end{bmatrix}$\n",
        "\n",
        "#### Przykład 2:\n",
        "$A = \\begin{bmatrix}2&1&-1\\\\0&-1&2\\end{bmatrix}$,\n",
        "$A^{T} = \\begin{bmatrix}2&0\\\\1&-1\\\\-1&2\\end{bmatrix}$"
      ],
      "metadata": {
        "id": "brcDOc29yYM_"
      }
    },
    {
      "cell_type": "code",
      "source": [
        "np.transpose(A) #transponowanie macierzy"
      ],
      "metadata": {
        "colab": {
          "base_uri": "https://localhost:8080/"
        },
        "id": "8Y8rw73RyHon",
        "outputId": "1a0800b6-4166-421f-c457-8052138a4335"
      },
      "execution_count": 24,
      "outputs": [
        {
          "output_type": "execute_result",
          "data": {
            "text/plain": [
              "array([[ 2, -1],\n",
              "       [ 4,  3]])"
            ]
          },
          "metadata": {},
          "execution_count": 24
        }
      ]
    },
    {
      "cell_type": "code",
      "source": [
        "A.T #T - transponowanie macierzy"
      ],
      "metadata": {
        "colab": {
          "base_uri": "https://localhost:8080/"
        },
        "id": "zGwp8jIHyo09",
        "outputId": "527dec67-4b36-46e1-936c-5f227ac906fb"
      },
      "execution_count": 25,
      "outputs": [
        {
          "output_type": "execute_result",
          "data": {
            "text/plain": [
              "array([[ 2, -1],\n",
              "       [ 4,  3]])"
            ]
          },
          "metadata": {},
          "execution_count": 25
        }
      ]
    },
    {
      "cell_type": "code",
      "source": [],
      "metadata": {
        "id": "Pt2dNxIKytY5"
      },
      "execution_count": null,
      "outputs": []
    },
    {
      "cell_type": "markdown",
      "source": [
        "### <a name='a11'></a> Rozwiązywanie układów równań\n",
        "Rozważmy układ równań $U$:  \n",
        "$${\\displaystyle \\mathrm {U} \\colon {\\begin{cases}{\\begin{matrix}a_{11}x_{1}&+&a_{12}x_{2}&+&\\dots &+&a_{1n}x_{n}&=b_{1},\\\\a_{21}x_{1}&+&a_{22}x_{2}&+&\\dots &+&a_{2n}x_{n}&=b_{2},\\\\\\vdots &&\\vdots &&\\ddots &&\\vdots &\\vdots \\\\a_{m1}x_{1}&+&a_{m2}x_{2}&+&\\dots &+&a_{mn}x_{n}&=b_{m}.\\end{matrix}}\\end{cases}}.}$$\n",
        "\n",
        "Wykorzystując macierze możemy to przedstawić następująco:\n",
        "\n",
        "$${\\begin{bmatrix}a_{11}&a_{12}&\\dots &a_{1n}\\\\a_{21}&a_{22}&\\dots &a_{2n}\\\\\\vdots &\\vdots &\\ddots &\\vdots \\\\a_{m1}&a_{m2}&\\dots &a_{mn}\\end{bmatrix}}{\\begin{bmatrix}x_{1}\\\\x_{2}\\\\\\vdots \\\\x_{n}\\end{bmatrix}}={\\begin{bmatrix}b_{1}\\\\b_{2}\\\\\\vdots \\\\b_{m}\\end{bmatrix}}$$\n",
        "I w zapisie skrótowym:\n",
        "$$\\mathbf {AX} =\\mathbf {B}$$\n",
        "# macierz wspólczynników\n",
        "# macierz niewiadomych\n",
        "# macierz wyrazów wolnych\n",
        "Gdzie:  \n",
        "$A = {\\begin{bmatrix}a_{11}&a_{12}&\\dots &a_{1n}\\\\a_{21}&a_{22}&\\dots &a_{2n}\\\\\\vdots &\\vdots &\\ddots &\\vdots \\\\a_{m1}&a_{m2}&\\dots &a_{mn}\\end{bmatrix}}$ - macierz współczynników\n",
        "\n",
        "${\\displaystyle \\mathbf {B} =[b_{1},b_{2},\\dots ,b_{m}]} $ - wektor wyrazów wolnych  \n",
        "${\\mathbf  X}=[x_{1},x_{2},\\dots ,x_{n}] $ - wektor niewiadomych\n",
        "\n",
        "Jeśli macierz układu $A$ jest macierzą kwadratową, to oznaczoność układu jest równoważna jej odwracalności, tzn.\n",
        "$$\\mathbf {AX} =\\mathbf {B}$$\n",
        "$${\\displaystyle \\mathbf {A} ^{-1}\\mathbf {AX} =\\mathbf {A} ^{-1}\\mathbf {B}} $$\n",
        "$$\\mathbf {X} =\\mathbf {A} ^{-1}\\mathbf {B} .$$\n",
        "\n",
        "#### Przykład:\n",
        "Rozważmy układ równań:\n",
        "$$\\begin{cases}2x + 4y = 10 \\\\ x - y = -1 \\end{cases}$$  \n",
        "Rozwiązaniem jest para liczb:\n",
        "$$\\begin{cases}x = 1 \\\\ y = 2 \\end{cases}$$  \n",
        "\n",
        "\n",
        "\n",
        "\n"
      ],
      "metadata": {
        "id": "R3dCRARYy2gL"
      }
    },
    {
      "cell_type": "code",
      "source": [
        "A = np.array([[2,4], [1, -1]])\n",
        "print(A)"
      ],
      "metadata": {
        "colab": {
          "base_uri": "https://localhost:8080/"
        },
        "id": "DpaMpDjky3Hy",
        "outputId": "8dc9a090-5674-4b14-d689-4539c9ed4609"
      },
      "execution_count": 37,
      "outputs": [
        {
          "output_type": "stream",
          "name": "stdout",
          "text": [
            "[[ 2  4]\n",
            " [ 1 -1]]\n"
          ]
        }
      ]
    },
    {
      "cell_type": "code",
      "source": [
        "B = np.array([[10],[-1]])\n",
        "print(B)"
      ],
      "metadata": {
        "colab": {
          "base_uri": "https://localhost:8080/"
        },
        "id": "Hw_xuAnr0Aym",
        "outputId": "6ca14b6c-8e31-49a5-b1a4-bad07aac834c"
      },
      "execution_count": 38,
      "outputs": [
        {
          "output_type": "stream",
          "name": "stdout",
          "text": [
            "[[10]\n",
            " [-1]]\n"
          ]
        }
      ]
    },
    {
      "cell_type": "code",
      "source": [
        "A_inv = np.linalg.inv(A)\n",
        "X = np.dot(A_inv, B)\n",
        "X"
      ],
      "metadata": {
        "colab": {
          "base_uri": "https://localhost:8080/"
        },
        "id": "A4UH-evq0GdL",
        "outputId": "f08c6f9f-13ce-4c81-a71c-bd2a2d4aac64"
      },
      "execution_count": 39,
      "outputs": [
        {
          "output_type": "execute_result",
          "data": {
            "text/plain": [
              "array([[1.],\n",
              "       [2.]])"
            ]
          },
          "metadata": {},
          "execution_count": 39
        }
      ]
    },
    {
      "cell_type": "code",
      "source": [],
      "metadata": {
        "colab": {
          "base_uri": "https://localhost:8080/",
          "height": 205
        },
        "id": "yh5onzC50NlU",
        "outputId": "9161f505-500b-4fa0-96b1-43117d942e28"
      },
      "execution_count": 32,
      "outputs": [
        {
          "output_type": "error",
          "ename": "ValueError",
          "evalue": "ignored",
          "traceback": [
            "\u001b[0;31m---------------------------------------------------------------------------\u001b[0m",
            "\u001b[0;31mValueError\u001b[0m                                Traceback (most recent call last)",
            "\u001b[0;32m<ipython-input-32-01781dd2fa08>\u001b[0m in \u001b[0;36m<module>\u001b[0;34m\u001b[0m\n\u001b[0;32m----> 1\u001b[0;31m \u001b[0mX\u001b[0m \u001b[0;34m=\u001b[0m \u001b[0mnp\u001b[0m\u001b[0;34m.\u001b[0m\u001b[0mdot\u001b[0m\u001b[0;34m(\u001b[0m\u001b[0mA_inv\u001b[0m\u001b[0;34m,\u001b[0m \u001b[0mB\u001b[0m\u001b[0;34m)\u001b[0m\u001b[0;34m\u001b[0m\u001b[0;34m\u001b[0m\u001b[0m\n\u001b[0m",
            "\u001b[0;32m<__array_function__ internals>\u001b[0m in \u001b[0;36mdot\u001b[0;34m(*args, **kwargs)\u001b[0m\n",
            "\u001b[0;31mValueError\u001b[0m: shapes (2,2) and (1,2) not aligned: 2 (dim 1) != 1 (dim 0)"
          ]
        }
      ]
    },
    {
      "cell_type": "code",
      "source": [],
      "metadata": {
        "id": "0LyTPk8B0RNK"
      },
      "execution_count": null,
      "outputs": []
    }
  ]
}