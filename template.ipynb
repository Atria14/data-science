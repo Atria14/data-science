{
  "nbformat": 4,
  "nbformat_minor": 0,
  "metadata": {
    "colab": {
      "provenance": [],
      "authorship_tag": "ABX9TyOk7vV6iL4e4Fi2KSFzjTSO",
      "include_colab_link": true
    },
    "kernelspec": {
      "name": "python3",
      "display_name": "Python 3"
    },
    "language_info": {
      "name": "python"
    }
  },
  "cells": [
    {
      "cell_type": "markdown",
      "metadata": {
        "id": "view-in-github",
        "colab_type": "text"
      },
      "source": [
        "<a href=\"https://colab.research.google.com/github/Atria14/data-science/blob/main/template.ipynb\" target=\"_parent\"><img src=\"https://colab.research.google.com/assets/colab-badge.svg\" alt=\"Open In Colab\"/></a>"
      ]
    },
    {
      "cell_type": "code",
      "execution_count": null,
      "metadata": {
        "colab": {
          "base_uri": "https://localhost:8080/"
        },
        "id": "ZKnSGzXus5KS",
        "outputId": "47aaac25-be74-4cb3-a2eb-5417614f932e"
      },
      "outputs": [
        {
          "output_type": "stream",
          "name": "stdout",
          "text": [
            "Hello Colab\n"
          ]
        }
      ],
      "source": [
        "print('Hello Colab')"
      ]
    },
    {
      "cell_type": "code",
      "source": [
        "import numpy as np"
      ],
      "metadata": {
        "id": "Dtnrb4Dxs-s_"
      },
      "execution_count": 1,
      "outputs": []
    },
    {
      "cell_type": "code",
      "source": [
        "np.__version__"
      ],
      "metadata": {
        "id": "kjFlUuOYtJHg",
        "outputId": "7ddf9ef7-a2be-4865-b998-b67366d24f9a",
        "colab": {
          "base_uri": "https://localhost:8080/",
          "height": 35
        }
      },
      "execution_count": 2,
      "outputs": [
        {
          "output_type": "execute_result",
          "data": {
            "text/plain": [
              "'1.21.6'"
            ],
            "application/vnd.google.colaboratory.intrinsic+json": {
              "type": "string"
            }
          },
          "metadata": {},
          "execution_count": 2
        }
      ]
    },
    {
      "cell_type": "markdown",
      "source": [
        "Wyświetlenie wszystkich funkcji numpy:"
      ],
      "metadata": {
        "id": "IecB1X2N0mik"
      }
    },
    {
      "cell_type": "code",
      "source": [
        "dir(np)"
      ],
      "metadata": {
        "id": "2yWGnFM10Usb"
      },
      "execution_count": null,
      "outputs": []
    },
    {
      "cell_type": "code",
      "source": [],
      "metadata": {
        "id": "I00AouFW0dAZ"
      },
      "execution_count": null,
      "outputs": []
    },
    {
      "cell_type": "markdown",
      "source": [
        "Wyświetlanie pomocy:"
      ],
      "metadata": {
        "id": "xaXL9o_j0yST"
      }
    },
    {
      "cell_type": "code",
      "source": [
        "help(np.array)"
      ],
      "metadata": {
        "id": "HdFVHS1B00TS"
      },
      "execution_count": null,
      "outputs": []
    },
    {
      "cell_type": "markdown",
      "source": [
        "Tablica - array (wielowymiarowa tablica) jest podstawowym elementem numpy "
      ],
      "metadata": {
        "id": "WNXlO1551EMZ"
      }
    },
    {
      "cell_type": "markdown",
      "source": [
        "1D Array - tablica jednowymiarowa. Elementy tablicy podajemy jako elementy listy."
      ],
      "metadata": {
        "id": "rmplr0ex1kwm"
      }
    },
    {
      "cell_type": "code",
      "source": [
        "x = np.array([1, 3])\n",
        "x"
      ],
      "metadata": {
        "id": "bqKlIWBB02jP",
        "outputId": "5a0ec656-7b0d-4492-ccc8-aaf613c6de7d",
        "colab": {
          "base_uri": "https://localhost:8080/"
        }
      },
      "execution_count": 6,
      "outputs": [
        {
          "output_type": "execute_result",
          "data": {
            "text/plain": [
              "array([1, 3])"
            ]
          },
          "metadata": {},
          "execution_count": 6
        }
      ]
    },
    {
      "cell_type": "code",
      "source": [
        "print(x)"
      ],
      "metadata": {
        "id": "CARDdoqO1pen",
        "outputId": "0da3da3c-a819-4b57-cc31-310a1af3f9be",
        "colab": {
          "base_uri": "https://localhost:8080/"
        }
      },
      "execution_count": 7,
      "outputs": [
        {
          "output_type": "stream",
          "name": "stdout",
          "text": [
            "[1 3]\n"
          ]
        }
      ]
    },
    {
      "cell_type": "markdown",
      "source": [
        "Sprawdzdenie typu obiektu. Jest to punkt w przestrzeni, wektor."
      ],
      "metadata": {
        "id": "GYcPS-v923D9"
      }
    },
    {
      "cell_type": "code",
      "source": [
        "type(x)"
      ],
      "metadata": {
        "id": "-HehnfP619oj",
        "outputId": "c589a7bd-9a23-4b5c-b9f8-f1c7b373663c",
        "colab": {
          "base_uri": "https://localhost:8080/"
        }
      },
      "execution_count": 8,
      "outputs": [
        {
          "output_type": "execute_result",
          "data": {
            "text/plain": [
              "numpy.ndarray"
            ]
          },
          "metadata": {},
          "execution_count": 8
        }
      ]
    },
    {
      "cell_type": "markdown",
      "source": [
        "Wymiar tablicy:"
      ],
      "metadata": {
        "id": "1Ec2f7mK29ob"
      }
    },
    {
      "cell_type": "code",
      "source": [
        "x.ndim"
      ],
      "metadata": {
        "id": "0bKE45Y72ArD",
        "outputId": "70c22174-b996-44fa-add0-f28a32be05fb",
        "colab": {
          "base_uri": "https://localhost:8080/"
        }
      },
      "execution_count": 9,
      "outputs": [
        {
          "output_type": "execute_result",
          "data": {
            "text/plain": [
              "1"
            ]
          },
          "metadata": {},
          "execution_count": 9
        }
      ]
    },
    {
      "cell_type": "markdown",
      "source": [
        "Kształt tablicy, wyświetla się jako Tuple. Ponieważ mamy dwa elementy wyświetla się 2:"
      ],
      "metadata": {
        "id": "GVSuJmFc3JMj"
      }
    },
    {
      "cell_type": "code",
      "source": [
        "x.shape"
      ],
      "metadata": {
        "id": "UdyTDfhQ2Hwc",
        "outputId": "335f9a1e-032f-4b5e-b42d-9cd8611fcb99",
        "colab": {
          "base_uri": "https://localhost:8080/"
        }
      },
      "execution_count": 10,
      "outputs": [
        {
          "output_type": "execute_result",
          "data": {
            "text/plain": [
              "(2,)"
            ]
          },
          "metadata": {},
          "execution_count": 10
        }
      ]
    },
    {
      "cell_type": "markdown",
      "source": [],
      "metadata": {
        "id": "RrCpjIJH3Lc_"
      }
    },
    {
      "cell_type": "code",
      "source": [
        "Liczba elementów w tablicy:"
      ],
      "metadata": {
        "id": "lUNOK8pg2QQd"
      },
      "execution_count": null,
      "outputs": []
    },
    {
      "cell_type": "code",
      "source": [
        "x.size"
      ],
      "metadata": {
        "id": "td17iAhA2JP1",
        "outputId": "1defcc3c-4d1e-4faf-bfda-5d96a35e3abe",
        "colab": {
          "base_uri": "https://localhost:8080/"
        }
      },
      "execution_count": 11,
      "outputs": [
        {
          "output_type": "execute_result",
          "data": {
            "text/plain": [
              "2"
            ]
          },
          "metadata": {},
          "execution_count": 11
        }
      ]
    },
    {
      "cell_type": "markdown",
      "source": [
        "Typ danych:"
      ],
      "metadata": {
        "id": "n23yl1WM2ab6"
      }
    },
    {
      "cell_type": "code",
      "source": [
        "x.dtype"
      ],
      "metadata": {
        "id": "eCm2AEHn2Oae",
        "outputId": "b0af101c-945a-40ba-a539-40b5687635bd",
        "colab": {
          "base_uri": "https://localhost:8080/"
        }
      },
      "execution_count": 12,
      "outputs": [
        {
          "output_type": "execute_result",
          "data": {
            "text/plain": [
              "dtype('int64')"
            ]
          },
          "metadata": {},
          "execution_count": 12
        }
      ]
    },
    {
      "cell_type": "code",
      "source": [],
      "metadata": {
        "id": "v6iIncxQ2dSy"
      },
      "execution_count": null,
      "outputs": []
    },
    {
      "cell_type": "markdown",
      "source": [
        "Przykład jednowymiarowej tablicy:"
      ],
      "metadata": {
        "id": "6XL1sXWT3ghJ"
      }
    },
    {
      "cell_type": "code",
      "source": [
        "x = np.array([1.3, 2.3, 1.4])\n",
        "print(x)"
      ],
      "metadata": {
        "id": "3GNu_B2l3kNV",
        "outputId": "9e77d5bc-33e8-49ea-83ce-b52f49db0e6d",
        "colab": {
          "base_uri": "https://localhost:8080/"
        }
      },
      "execution_count": 14,
      "outputs": [
        {
          "output_type": "stream",
          "name": "stdout",
          "text": [
            "[1.3 2.3 1.4]\n"
          ]
        }
      ]
    },
    {
      "cell_type": "code",
      "source": [
        "x.dtype"
      ],
      "metadata": {
        "id": "0fV4HiCH3rgn",
        "outputId": "a0f86a28-c10d-4f92-a086-60ce3c2ca738",
        "colab": {
          "base_uri": "https://localhost:8080/"
        }
      },
      "execution_count": 15,
      "outputs": [
        {
          "output_type": "execute_result",
          "data": {
            "text/plain": [
              "dtype('float64')"
            ]
          },
          "metadata": {},
          "execution_count": 15
        }
      ]
    },
    {
      "cell_type": "code",
      "source": [],
      "metadata": {
        "id": "320v0IPp30m2"
      },
      "execution_count": null,
      "outputs": []
    },
    {
      "cell_type": "markdown",
      "source": [
        "2D Array - tablice dwuwymiarowe. Domyślna interpretacja macierzy."
      ],
      "metadata": {
        "id": "0F8DvXNF33Kx"
      }
    },
    {
      "cell_type": "code",
      "source": [
        "x = np.array([[1,2],[-3,1]])\n",
        "x"
      ],
      "metadata": {
        "id": "EUkNr0mC39K1",
        "outputId": "37216bb6-6293-4118-83a1-f4b9c340ff09",
        "colab": {
          "base_uri": "https://localhost:8080/"
        }
      },
      "execution_count": 19,
      "outputs": [
        {
          "output_type": "execute_result",
          "data": {
            "text/plain": [
              "array([[ 1,  2],\n",
              "       [-3,  1]])"
            ]
          },
          "metadata": {},
          "execution_count": 19
        }
      ]
    },
    {
      "cell_type": "code",
      "source": [
        "x.ndim"
      ],
      "metadata": {
        "id": "53hdP_hX4Mnz",
        "outputId": "021c1440-da62-4a80-ef69-4aa4499b3d29",
        "colab": {
          "base_uri": "https://localhost:8080/"
        }
      },
      "execution_count": 20,
      "outputs": [
        {
          "output_type": "execute_result",
          "data": {
            "text/plain": [
              "2"
            ]
          },
          "metadata": {},
          "execution_count": 20
        }
      ]
    },
    {
      "cell_type": "code",
      "source": [
        "x.shape"
      ],
      "metadata": {
        "id": "dpgLH_kx4Y3R",
        "outputId": "e94e0c92-a038-45fd-cb20-aa3fc1b79922",
        "colab": {
          "base_uri": "https://localhost:8080/"
        }
      },
      "execution_count": 21,
      "outputs": [
        {
          "output_type": "execute_result",
          "data": {
            "text/plain": [
              "(2, 2)"
            ]
          },
          "metadata": {},
          "execution_count": 21
        }
      ]
    },
    {
      "cell_type": "code",
      "source": [
        "x = np.array([[1, 2, 4],[4, 2, 1]])\n",
        "print(x)"
      ],
      "metadata": {
        "id": "0qj069cv4a16",
        "outputId": "a2535d07-1765-4b6b-97ef-791a80575944",
        "colab": {
          "base_uri": "https://localhost:8080/"
        }
      },
      "execution_count": 22,
      "outputs": [
        {
          "output_type": "stream",
          "name": "stdout",
          "text": [
            "[[1 2 4]\n",
            " [4 2 1]]\n"
          ]
        }
      ]
    },
    {
      "cell_type": "code",
      "source": [
        "x.shape"
      ],
      "metadata": {
        "id": "kHQ2lHdL44zc",
        "outputId": "a377cc98-252b-403a-d82f-b68dc692ef20",
        "colab": {
          "base_uri": "https://localhost:8080/"
        }
      },
      "execution_count": 23,
      "outputs": [
        {
          "output_type": "execute_result",
          "data": {
            "text/plain": [
              "(2, 3)"
            ]
          },
          "metadata": {},
          "execution_count": 23
        }
      ]
    },
    {
      "cell_type": "code",
      "source": [],
      "metadata": {
        "id": "ZkJiQx3k468L"
      },
      "execution_count": null,
      "outputs": []
    },
    {
      "cell_type": "markdown",
      "source": [
        "3D Array - tablice trzy wymiarowe. Przechowują dane np. obrazy."
      ],
      "metadata": {
        "id": "KAfR5Hsy49iy"
      }
    },
    {
      "cell_type": "code",
      "source": [
        "x = np.array(\n",
        "    [[[4, 3, 1],\n",
        "      [3, 1, 2]],\n",
        "     \n",
        "     [[4, 1, 3,],\n",
        "     [4, 2, 1]]]\n",
        "    )\n",
        "x"
      ],
      "metadata": {
        "id": "-L9wRIZF5HiG",
        "outputId": "36a15d10-da91-418b-85ce-8f762d4fec5b",
        "colab": {
          "base_uri": "https://localhost:8080/"
        }
      },
      "execution_count": 26,
      "outputs": [
        {
          "output_type": "execute_result",
          "data": {
            "text/plain": [
              "array([[[4, 3, 1],\n",
              "        [3, 1, 2]],\n",
              "\n",
              "       [[4, 1, 3],\n",
              "        [4, 2, 1]]])"
            ]
          },
          "metadata": {},
          "execution_count": 26
        }
      ]
    },
    {
      "cell_type": "code",
      "source": [
        "x.ndim"
      ],
      "metadata": {
        "id": "I316H6H65rNY",
        "outputId": "515bb7eb-0c5c-45d0-cc19-8fe61082e11a",
        "colab": {
          "base_uri": "https://localhost:8080/"
        }
      },
      "execution_count": 27,
      "outputs": [
        {
          "output_type": "execute_result",
          "data": {
            "text/plain": [
              "3"
            ]
          },
          "metadata": {},
          "execution_count": 27
        }
      ]
    },
    {
      "cell_type": "markdown",
      "source": [
        "Parametr shape informuje nas, że mamy dwie tablice o dwóch wierszach i trzech kolumnach."
      ],
      "metadata": {
        "id": "8-RpRQ0-6Keo"
      }
    },
    {
      "cell_type": "code",
      "source": [
        "x.shape"
      ],
      "metadata": {
        "id": "3O5woq1_6Cy3",
        "outputId": "31230e6a-ca66-47a5-defd-bae109dc56e4",
        "colab": {
          "base_uri": "https://localhost:8080/"
        }
      },
      "execution_count": 28,
      "outputs": [
        {
          "output_type": "execute_result",
          "data": {
            "text/plain": [
              "(2, 2, 3)"
            ]
          },
          "metadata": {},
          "execution_count": 28
        }
      ]
    },
    {
      "cell_type": "code",
      "source": [
        "x = np.array(\n",
        "    [[[4, 3, 1],\n",
        "      [3, 1, 2]],\n",
        "     \n",
        "     [[4, 1, 3,],\n",
        "     [4, 2, 1]],\n",
        "     \n",
        "     [[4, 1, 3,],\n",
        "     [4, 2, 1]]]\n",
        "    )\n",
        "x"
      ],
      "metadata": {
        "id": "V2bH2J6Q6Enw",
        "outputId": "3e8f9bff-7be6-44c9-897d-49c2fd9fdf79",
        "colab": {
          "base_uri": "https://localhost:8080/"
        }
      },
      "execution_count": 30,
      "outputs": [
        {
          "output_type": "execute_result",
          "data": {
            "text/plain": [
              "array([[[4, 3, 1],\n",
              "        [3, 1, 2]],\n",
              "\n",
              "       [[4, 1, 3],\n",
              "        [4, 2, 1]],\n",
              "\n",
              "       [[4, 1, 3],\n",
              "        [4, 2, 1]]])"
            ]
          },
          "metadata": {},
          "execution_count": 30
        }
      ]
    },
    {
      "cell_type": "code",
      "source": [
        "x.shape"
      ],
      "metadata": {
        "id": "crNIkj506cwt",
        "outputId": "955447ce-80cb-4da7-d532-37a6030157d3",
        "colab": {
          "base_uri": "https://localhost:8080/"
        }
      },
      "execution_count": 31,
      "outputs": [
        {
          "output_type": "execute_result",
          "data": {
            "text/plain": [
              "(3, 2, 3)"
            ]
          },
          "metadata": {},
          "execution_count": 31
        }
      ]
    },
    {
      "cell_type": "markdown",
      "source": [
        "TYPY DANYCH"
      ],
      "metadata": {
        "id": "tk5kwxbZ8z9b"
      }
    },
    {
      "cell_type": "code",
      "source": [
        "A = np.array([1, 2, 3])\n",
        "A.dtype"
      ],
      "metadata": {
        "id": "K_JsjKJs6iNU",
        "outputId": "6d1b2b1f-8256-4d54-e51c-0beef5d34992",
        "colab": {
          "base_uri": "https://localhost:8080/"
        }
      },
      "execution_count": 32,
      "outputs": [
        {
          "output_type": "execute_result",
          "data": {
            "text/plain": [
              "dtype('int64')"
            ]
          },
          "metadata": {},
          "execution_count": 32
        }
      ]
    },
    {
      "cell_type": "code",
      "source": [
        "A = np.array([1.0, 2.3, 3.3])\n",
        "A.dtype"
      ],
      "metadata": {
        "id": "jiqDnAMK89RM",
        "outputId": "14a8d773-510f-4f6b-b364-b1f583da1d94",
        "colab": {
          "base_uri": "https://localhost:8080/"
        }
      },
      "execution_count": 33,
      "outputs": [
        {
          "output_type": "execute_result",
          "data": {
            "text/plain": [
              "dtype('float64')"
            ]
          },
          "metadata": {},
          "execution_count": 33
        }
      ]
    },
    {
      "cell_type": "markdown",
      "source": [
        "Kontrolowanie typu danych, parametr dtype:"
      ],
      "metadata": {
        "id": "b5WGbJoS9K6j"
      }
    },
    {
      "cell_type": "code",
      "source": [
        "A = np.array([1, 2, 3], dtype='float')\n",
        "A.dtype"
      ],
      "metadata": {
        "id": "R1O8KIa09F_Q",
        "outputId": "8cd45205-f73a-45a4-8f01-a4e7daa17965",
        "colab": {
          "base_uri": "https://localhost:8080/"
        }
      },
      "execution_count": 34,
      "outputs": [
        {
          "output_type": "execute_result",
          "data": {
            "text/plain": [
              "dtype('float64')"
            ]
          },
          "metadata": {},
          "execution_count": 34
        }
      ]
    },
    {
      "cell_type": "markdown",
      "source": [
        "Inne typy danych np. complex - liczby złożone."
      ],
      "metadata": {
        "id": "tPXHcm-N9Ytm"
      }
    },
    {
      "cell_type": "code",
      "source": [
        "A = np.array([1, 2, 3], dtype='complex')\n",
        "A.dtype"
      ],
      "metadata": {
        "id": "t4xLfSFf9Jv0",
        "outputId": "8cb20601-a92b-4ff9-8725-4d4a3235ecaa",
        "colab": {
          "base_uri": "https://localhost:8080/"
        }
      },
      "execution_count": 35,
      "outputs": [
        {
          "output_type": "execute_result",
          "data": {
            "text/plain": [
              "dtype('complex128')"
            ]
          },
          "metadata": {},
          "execution_count": 35
        }
      ]
    },
    {
      "cell_type": "markdown",
      "source": [
        "Typ danych int - liczby całkowite."
      ],
      "metadata": {
        "id": "LxGkFnFJ9ln2"
      }
    },
    {
      "cell_type": "code",
      "source": [
        "A = np.array([1.0, 2.7, 3.3], dtype='int')\n",
        "A.dtype"
      ],
      "metadata": {
        "id": "lyr2nv2h9XSU",
        "outputId": "5ad424a1-dcfa-4767-d5cd-a22217c0de90",
        "colab": {
          "base_uri": "https://localhost:8080/"
        }
      },
      "execution_count": 36,
      "outputs": [
        {
          "output_type": "execute_result",
          "data": {
            "text/plain": [
              "dtype('int64')"
            ]
          },
          "metadata": {},
          "execution_count": 36
        }
      ]
    },
    {
      "cell_type": "markdown",
      "source": [
        "Zdefiniowanie typu danych na liczby całkowite jednocześnie sprawi, że Python przekonwertuje liczby na całkowite:"
      ],
      "metadata": {
        "id": "DrnNpBRl9vL2"
      }
    },
    {
      "cell_type": "code",
      "source": [
        "A"
      ],
      "metadata": {
        "id": "nfex-0qT9kRh",
        "outputId": "578898e4-da4c-4655-ce6a-f09ba848500b",
        "colab": {
          "base_uri": "https://localhost:8080/"
        }
      },
      "execution_count": 38,
      "outputs": [
        {
          "output_type": "execute_result",
          "data": {
            "text/plain": [
              "array([1, 2, 3])"
            ]
          },
          "metadata": {},
          "execution_count": 38
        }
      ]
    },
    {
      "cell_type": "markdown",
      "source": [
        "Typ danych bool - wartości logiczne prawda/fałsz"
      ],
      "metadata": {
        "id": "-GF_1q9S98fV"
      }
    },
    {
      "cell_type": "code",
      "source": [
        "A = np.array([True, False])\n",
        "A.dtype"
      ],
      "metadata": {
        "id": "Xvr_euY-9tgH",
        "outputId": "0301a01e-469b-4f46-baf4-59f0255e236f",
        "colab": {
          "base_uri": "https://localhost:8080/"
        }
      },
      "execution_count": 40,
      "outputs": [
        {
          "output_type": "execute_result",
          "data": {
            "text/plain": [
              "dtype('bool')"
            ]
          },
          "metadata": {},
          "execution_count": 40
        }
      ]
    },
    {
      "cell_type": "markdown",
      "source": [
        "Wbudowane typy danych numpy np. dla tablic opisujących zdjęcie, gdybyśmy chcieli przedstawić parametry pixela dla jakiegoś obrazu. int8 - 8mio bitowa liczba całkowita"
      ],
      "metadata": {
        "id": "8BRhgjqX-DqX"
      }
    },
    {
      "cell_type": "code",
      "source": [
        "A = np.array([24, 120, 230], dtype=np.int8)\n",
        "A.dtype"
      ],
      "metadata": {
        "id": "wTFUNdcr97oX",
        "outputId": "32d5e655-a4a2-4dfc-bced-a22bcec66501",
        "colab": {
          "base_uri": "https://localhost:8080/"
        }
      },
      "execution_count": 41,
      "outputs": [
        {
          "output_type": "execute_result",
          "data": {
            "text/plain": [
              "dtype('int8')"
            ]
          },
          "metadata": {},
          "execution_count": 41
        }
      ]
    },
    {
      "cell_type": "markdown",
      "source": [
        "uint8 - używa wartości od 0 do 255"
      ],
      "metadata": {
        "id": "xk-OKxSx-chz"
      }
    },
    {
      "cell_type": "code",
      "source": [
        "A = np.array([24, 120, 230], dtype=np.uint8)\n",
        "A.dtype"
      ],
      "metadata": {
        "id": "lPK9TaPY-W-Q",
        "outputId": "bf299667-8366-4db6-ba83-f05571caafec",
        "colab": {
          "base_uri": "https://localhost:8080/"
        }
      },
      "execution_count": 42,
      "outputs": [
        {
          "output_type": "execute_result",
          "data": {
            "text/plain": [
              "dtype('uint8')"
            ]
          },
          "metadata": {},
          "execution_count": 42
        }
      ]
    },
    {
      "cell_type": "markdown",
      "source": [],
      "metadata": {
        "id": "4vOhZTd4-yb6"
      }
    },
    {
      "cell_type": "markdown",
      "source": [
        "TWORZENIE TABLIC"
      ],
      "metadata": {
        "id": "Lmbzfud7-stc"
      }
    },
    {
      "cell_type": "markdown",
      "source": [
        "zeros - tworzy tablice dowolnych rozmiarów składającą się z samych 0. Domyślnie tworzy typ danych float.\n",
        "Do stworzenia obrazu np 80 x 200 pikseli o czarnym tle można skorzystać z tej funkcji."
      ],
      "metadata": {
        "id": "WJMFYAVE_hDF"
      }
    },
    {
      "cell_type": "code",
      "source": [
        "np.zeros(shape=(4, 10))"
      ],
      "metadata": {
        "id": "tjqhVEF--nBA",
        "outputId": "5a35fa99-b349-4fa0-b2ff-4a3a90de542e",
        "colab": {
          "base_uri": "https://localhost:8080/"
        }
      },
      "execution_count": 44,
      "outputs": [
        {
          "output_type": "execute_result",
          "data": {
            "text/plain": [
              "array([[0., 0., 0., 0., 0., 0., 0., 0., 0., 0.],\n",
              "       [0., 0., 0., 0., 0., 0., 0., 0., 0., 0.],\n",
              "       [0., 0., 0., 0., 0., 0., 0., 0., 0., 0.],\n",
              "       [0., 0., 0., 0., 0., 0., 0., 0., 0., 0.]])"
            ]
          },
          "metadata": {},
          "execution_count": 44
        }
      ]
    },
    {
      "cell_type": "code",
      "source": [],
      "metadata": {
        "id": "dPDYcfum_PBC"
      },
      "execution_count": null,
      "outputs": []
    },
    {
      "cell_type": "markdown",
      "source": [
        "Zdefiniowanie typu danych na int:"
      ],
      "metadata": {
        "id": "HMPpKJTz_PxF"
      }
    },
    {
      "cell_type": "code",
      "source": [
        "np.zeros(shape=(4, 10), dtype='int')"
      ],
      "metadata": {
        "id": "DZu7cRmZ-8Lu",
        "outputId": "c85c3cb8-1468-45a9-c56b-5ae6795d1d6a",
        "colab": {
          "base_uri": "https://localhost:8080/"
        }
      },
      "execution_count": 45,
      "outputs": [
        {
          "output_type": "execute_result",
          "data": {
            "text/plain": [
              "array([[0, 0, 0, 0, 0, 0, 0, 0, 0, 0],\n",
              "       [0, 0, 0, 0, 0, 0, 0, 0, 0, 0],\n",
              "       [0, 0, 0, 0, 0, 0, 0, 0, 0, 0],\n",
              "       [0, 0, 0, 0, 0, 0, 0, 0, 0, 0]])"
            ]
          },
          "metadata": {},
          "execution_count": 45
        }
      ]
    },
    {
      "cell_type": "markdown",
      "source": [
        "Funkcja ones - tworzy tablice z liczbami 1"
      ],
      "metadata": {
        "id": "BmUS2OtN_pKW"
      }
    },
    {
      "cell_type": "code",
      "source": [
        "np.ones(shape=(5,5))"
      ],
      "metadata": {
        "id": "Ay4N3O9X_KCr",
        "outputId": "1bf3edff-e35a-49a9-84f7-57727e5a6c85",
        "colab": {
          "base_uri": "https://localhost:8080/"
        }
      },
      "execution_count": 46,
      "outputs": [
        {
          "output_type": "execute_result",
          "data": {
            "text/plain": [
              "array([[1., 1., 1., 1., 1.],\n",
              "       [1., 1., 1., 1., 1.],\n",
              "       [1., 1., 1., 1., 1.],\n",
              "       [1., 1., 1., 1., 1.],\n",
              "       [1., 1., 1., 1., 1.]])"
            ]
          },
          "metadata": {},
          "execution_count": 46
        }
      ]
    },
    {
      "cell_type": "code",
      "source": [
        "np.ones(shape=(5,5), dtype='int')"
      ],
      "metadata": {
        "id": "wsMDQt0C_w7g",
        "outputId": "eca72bc4-e636-46ab-9899-e825b9a9756c",
        "colab": {
          "base_uri": "https://localhost:8080/"
        }
      },
      "execution_count": 47,
      "outputs": [
        {
          "output_type": "execute_result",
          "data": {
            "text/plain": [
              "array([[1, 1, 1, 1, 1],\n",
              "       [1, 1, 1, 1, 1],\n",
              "       [1, 1, 1, 1, 1],\n",
              "       [1, 1, 1, 1, 1],\n",
              "       [1, 1, 1, 1, 1]])"
            ]
          },
          "metadata": {},
          "execution_count": 47
        }
      ]
    },
    {
      "cell_type": "code",
      "source": [],
      "metadata": {
        "id": "CNmnziBR_2VR"
      },
      "execution_count": null,
      "outputs": []
    },
    {
      "cell_type": "markdown",
      "source": [
        "Funkcja full - wypełni tablice konkretną wartością którą definiujemy"
      ],
      "metadata": {
        "id": "WpbrfemZ_4Xq"
      }
    },
    {
      "cell_type": "code",
      "source": [
        "np.full(shape=(3,3), fill_value=4, dtype='int')"
      ],
      "metadata": {
        "id": "QtLfHRGVAFeA",
        "outputId": "688747ec-e126-42e9-d842-d3893c9d62a8",
        "colab": {
          "base_uri": "https://localhost:8080/"
        }
      },
      "execution_count": 48,
      "outputs": [
        {
          "output_type": "execute_result",
          "data": {
            "text/plain": [
              "array([[4, 4, 4],\n",
              "       [4, 4, 4],\n",
              "       [4, 4, 4]])"
            ]
          },
          "metadata": {},
          "execution_count": 48
        }
      ]
    },
    {
      "cell_type": "markdown",
      "source": [
        "Funkcja arange generuje podane dane w postaci tablicy array."
      ],
      "metadata": {
        "id": "dBj3NMsvAaH2"
      }
    },
    {
      "cell_type": "code",
      "source": [
        "np.arange(10)"
      ],
      "metadata": {
        "id": "Pv6306-gAXXt",
        "outputId": "db08e50d-157a-4b7d-e8d0-2b02b81c966c",
        "colab": {
          "base_uri": "https://localhost:8080/"
        }
      },
      "execution_count": 51,
      "outputs": [
        {
          "output_type": "execute_result",
          "data": {
            "text/plain": [
              "array([0, 1, 2, 3, 4, 5, 6, 7, 8, 9])"
            ]
          },
          "metadata": {},
          "execution_count": 51
        }
      ]
    },
    {
      "cell_type": "code",
      "source": [
        "list(range(10))"
      ],
      "metadata": {
        "id": "jCEeX7YwAgnC",
        "outputId": "9f8f4288-fd78-40be-d15c-12ff9921639c",
        "colab": {
          "base_uri": "https://localhost:8080/"
        }
      },
      "execution_count": 52,
      "outputs": [
        {
          "output_type": "execute_result",
          "data": {
            "text/plain": [
              "[0, 1, 2, 3, 4, 5, 6, 7, 8, 9]"
            ]
          },
          "metadata": {},
          "execution_count": 52
        }
      ]
    },
    {
      "cell_type": "code",
      "source": [
        "np.arange(start=5, stop=20)"
      ],
      "metadata": {
        "id": "EUBbCVX8AryO",
        "outputId": "3b2d8c41-6944-4565-de32-988a955ec487",
        "colab": {
          "base_uri": "https://localhost:8080/"
        }
      },
      "execution_count": 53,
      "outputs": [
        {
          "output_type": "execute_result",
          "data": {
            "text/plain": [
              "array([ 5,  6,  7,  8,  9, 10, 11, 12, 13, 14, 15, 16, 17, 18, 19])"
            ]
          },
          "metadata": {},
          "execution_count": 53
        }
      ]
    },
    {
      "cell_type": "markdown",
      "source": [
        "Doadnie parametru kroku:"
      ],
      "metadata": {
        "id": "LRx_xJ-7A3be"
      }
    },
    {
      "cell_type": "code",
      "source": [
        "np.arange(start=5, stop=100, step=10)"
      ],
      "metadata": {
        "id": "XkCtO2NlAzjx",
        "outputId": "67835352-9429-4dbf-b7d5-74b490ae1cd8",
        "colab": {
          "base_uri": "https://localhost:8080/"
        }
      },
      "execution_count": 54,
      "outputs": [
        {
          "output_type": "execute_result",
          "data": {
            "text/plain": [
              "array([ 5, 15, 25, 35, 45, 55, 65, 75, 85, 95])"
            ]
          },
          "metadata": {},
          "execution_count": 54
        }
      ]
    },
    {
      "cell_type": "code",
      "source": [
        "np.arange(start=5, stop=-100, step=-10)"
      ],
      "metadata": {
        "id": "DL7_cRcPA9fx",
        "outputId": "abbea984-174f-478d-a60b-16043bf147b6",
        "colab": {
          "base_uri": "https://localhost:8080/"
        }
      },
      "execution_count": 55,
      "outputs": [
        {
          "output_type": "execute_result",
          "data": {
            "text/plain": [
              "array([  5,  -5, -15, -25, -35, -45, -55, -65, -75, -85, -95])"
            ]
          },
          "metadata": {},
          "execution_count": 55
        }
      ]
    },
    {
      "cell_type": "code",
      "source": [
        "np.arange(start=100, stop=10, step=-10)"
      ],
      "metadata": {
        "id": "LOVilcOyBA2r",
        "outputId": "29cabf83-1236-4ebd-8a67-8a1ac7d40383",
        "colab": {
          "base_uri": "https://localhost:8080/"
        }
      },
      "execution_count": 56,
      "outputs": [
        {
          "output_type": "execute_result",
          "data": {
            "text/plain": [
              "array([100,  90,  80,  70,  60,  50,  40,  30,  20])"
            ]
          },
          "metadata": {},
          "execution_count": 56
        }
      ]
    },
    {
      "cell_type": "code",
      "source": [
        "np.arange(start=0, stop=1, step=0.05)"
      ],
      "metadata": {
        "id": "3zcjao3rBGWI",
        "outputId": "86221103-fa36-4933-c177-16bcc71cdabd",
        "colab": {
          "base_uri": "https://localhost:8080/"
        }
      },
      "execution_count": 58,
      "outputs": [
        {
          "output_type": "execute_result",
          "data": {
            "text/plain": [
              "array([0.  , 0.05, 0.1 , 0.15, 0.2 , 0.25, 0.3 , 0.35, 0.4 , 0.45, 0.5 ,\n",
              "       0.55, 0.6 , 0.65, 0.7 , 0.75, 0.8 , 0.85, 0.9 , 0.95])"
            ]
          },
          "metadata": {},
          "execution_count": 58
        }
      ]
    },
    {
      "cell_type": "markdown",
      "source": [
        "Linspace - generuje równo rozłożone parametry z podanego przedziału"
      ],
      "metadata": {
        "id": "XnF1Sl-QBOGI"
      }
    },
    {
      "cell_type": "code",
      "source": [
        "np.linspace(start=0, stop=1, num=11)"
      ],
      "metadata": {
        "id": "rlWRSlloBLg2",
        "outputId": "ecfadd32-b5c5-464d-814e-44dfe6677522",
        "colab": {
          "base_uri": "https://localhost:8080/"
        }
      },
      "execution_count": 60,
      "outputs": [
        {
          "output_type": "execute_result",
          "data": {
            "text/plain": [
              "array([0. , 0.1, 0.2, 0.3, 0.4, 0.5, 0.6, 0.7, 0.8, 0.9, 1. ])"
            ]
          },
          "metadata": {},
          "execution_count": 60
        }
      ]
    },
    {
      "cell_type": "code",
      "source": [
        "A = np.arange(15)"
      ],
      "metadata": {
        "id": "n2r29JsqBTjF"
      },
      "execution_count": 62,
      "outputs": []
    },
    {
      "cell_type": "markdown",
      "source": [
        "reshape - zmienia kształt danych:"
      ],
      "metadata": {
        "id": "6Z2cCHiWBu6u"
      }
    },
    {
      "cell_type": "markdown",
      "source": [],
      "metadata": {
        "id": "LvyJ_mWWBu2a"
      }
    },
    {
      "cell_type": "code",
      "source": [
        "A.reshape((3,5))"
      ],
      "metadata": {
        "id": "RrZ2c9FWBijy",
        "outputId": "73b9ed98-1f6b-486c-cef6-0e84987fcf47",
        "colab": {
          "base_uri": "https://localhost:8080/"
        }
      },
      "execution_count": 64,
      "outputs": [
        {
          "output_type": "execute_result",
          "data": {
            "text/plain": [
              "array([[ 0,  1,  2,  3,  4],\n",
              "       [ 5,  6,  7,  8,  9],\n",
              "       [10, 11, 12, 13, 14]])"
            ]
          },
          "metadata": {},
          "execution_count": 64
        }
      ]
    },
    {
      "cell_type": "markdown",
      "source": [
        "W przypadku gdy chcemy aby dane zostały rozłożone przez Pythona jako drugi parametr podajemy -1. Wtedy powstaną 3 wiersze i dobrana przez Pythona liczba kolumn."
      ],
      "metadata": {
        "id": "0UDicbb-B7SN"
      }
    },
    {
      "cell_type": "code",
      "source": [
        "A.reshape((3, -1))"
      ],
      "metadata": {
        "id": "Ifa7xSspBshq",
        "outputId": "fec69376-4c5a-4c46-9728-58189360778e",
        "colab": {
          "base_uri": "https://localhost:8080/"
        }
      },
      "execution_count": 70,
      "outputs": [
        {
          "output_type": "execute_result",
          "data": {
            "text/plain": [
              "array([[ 0,  1,  2,  3,  4],\n",
              "       [ 5,  6,  7,  8,  9],\n",
              "       [10, 11, 12, 13, 14]])"
            ]
          },
          "metadata": {},
          "execution_count": 70
        }
      ]
    },
    {
      "cell_type": "code",
      "source": [
        "A.reshape((-1, 3))"
      ],
      "metadata": {
        "id": "vCgbnvB6B3eR",
        "outputId": "fdc359c5-15db-42a9-f03b-87689399bd94",
        "colab": {
          "base_uri": "https://localhost:8080/"
        }
      },
      "execution_count": 71,
      "outputs": [
        {
          "output_type": "execute_result",
          "data": {
            "text/plain": [
              "array([[ 0,  1,  2],\n",
              "       [ 3,  4,  5],\n",
              "       [ 6,  7,  8],\n",
              "       [ 9, 10, 11],\n",
              "       [12, 13, 14]])"
            ]
          },
          "metadata": {},
          "execution_count": 71
        }
      ]
    },
    {
      "cell_type": "code",
      "source": [],
      "metadata": {
        "id": "647OpCEXCTh3"
      },
      "execution_count": null,
      "outputs": []
    },
    {
      "cell_type": "markdown",
      "source": [
        "PODSTAWOWE OPERACJE NA TABLICACH"
      ],
      "metadata": {
        "id": "1i5IxWgQCbER"
      }
    },
    {
      "cell_type": "code",
      "source": [
        "A = np.array([3, 1, 4, 2])\n",
        "B = np.array([3, -1, 3, 2])\n",
        "print(A)\n",
        "print(B)"
      ],
      "metadata": {
        "id": "PW3lpDUtCdCW",
        "outputId": "d0010246-60fd-4909-9c92-1d06cdadcbba",
        "colab": {
          "base_uri": "https://localhost:8080/"
        }
      },
      "execution_count": 72,
      "outputs": [
        {
          "output_type": "stream",
          "name": "stdout",
          "text": [
            "[3 1 4 2]\n",
            "[ 3 -1  3  2]\n"
          ]
        }
      ]
    },
    {
      "cell_type": "markdown",
      "source": [
        "Dodawanie - dodawany jest element do elementu:"
      ],
      "metadata": {
        "id": "cWOOvC_0CqoF"
      }
    },
    {
      "cell_type": "code",
      "source": [
        "A + B"
      ],
      "metadata": {
        "id": "lqvaMBAKCjDg",
        "outputId": "7a4d5da5-3781-454d-c166-e78ce4020c19",
        "colab": {
          "base_uri": "https://localhost:8080/"
        }
      },
      "execution_count": 73,
      "outputs": [
        {
          "output_type": "execute_result",
          "data": {
            "text/plain": [
              "array([6, 0, 7, 4])"
            ]
          },
          "metadata": {},
          "execution_count": 73
        }
      ]
    },
    {
      "cell_type": "markdown",
      "source": [
        "Odejmowanie:"
      ],
      "metadata": {
        "id": "4myT3cKICtmx"
      }
    },
    {
      "cell_type": "code",
      "source": [
        "A - B"
      ],
      "metadata": {
        "id": "M5UNOP1cCnkh",
        "outputId": "0d67eb3d-9c6f-401c-e7fe-42c40724a520",
        "colab": {
          "base_uri": "https://localhost:8080/"
        }
      },
      "execution_count": 74,
      "outputs": [
        {
          "output_type": "execute_result",
          "data": {
            "text/plain": [
              "array([0, 2, 1, 0])"
            ]
          },
          "metadata": {},
          "execution_count": 74
        }
      ]
    },
    {
      "cell_type": "markdown",
      "source": [
        "Mnożenie:"
      ],
      "metadata": {
        "id": "2hdemaxXCwss"
      }
    },
    {
      "cell_type": "code",
      "source": [
        "A * B"
      ],
      "metadata": {
        "id": "0HwFNwpnCvQA",
        "outputId": "1368588e-be79-4190-9ddb-882612c446ef",
        "colab": {
          "base_uri": "https://localhost:8080/"
        }
      },
      "execution_count": 75,
      "outputs": [
        {
          "output_type": "execute_result",
          "data": {
            "text/plain": [
              "array([ 9, -1, 12,  4])"
            ]
          },
          "metadata": {},
          "execution_count": 75
        }
      ]
    },
    {
      "cell_type": "markdown",
      "source": [
        "Dzielenie (tablica nie może zawierać zera). Wynik będzie przekonwertowany na float nawet jeśli wcześniej były int:"
      ],
      "metadata": {
        "id": "rTE2k8MJC0CT"
      }
    },
    {
      "cell_type": "code",
      "source": [
        "A / B"
      ],
      "metadata": {
        "id": "10qST7beCyQz",
        "outputId": "7196d34e-434d-4094-c313-0d32f8624a95",
        "colab": {
          "base_uri": "https://localhost:8080/"
        }
      },
      "execution_count": 76,
      "outputs": [
        {
          "output_type": "execute_result",
          "data": {
            "text/plain": [
              "array([ 1.        , -1.        ,  1.33333333,  1.        ])"
            ]
          },
          "metadata": {},
          "execution_count": 76
        }
      ]
    },
    {
      "cell_type": "code",
      "source": [
        "A+3"
      ],
      "metadata": {
        "id": "qH3v3k16C4GA",
        "outputId": "69940be9-23a6-4662-ef1d-b32ac88358e5",
        "colab": {
          "base_uri": "https://localhost:8080/"
        }
      },
      "execution_count": 77,
      "outputs": [
        {
          "output_type": "execute_result",
          "data": {
            "text/plain": [
              "array([6, 4, 7, 5])"
            ]
          },
          "metadata": {},
          "execution_count": 77
        }
      ]
    },
    {
      "cell_type": "code",
      "source": [
        "A-3"
      ],
      "metadata": {
        "id": "_85AD9nnC-q-",
        "outputId": "174ad09b-7fd7-456c-c0f5-e962e9e3b902",
        "colab": {
          "base_uri": "https://localhost:8080/"
        }
      },
      "execution_count": 78,
      "outputs": [
        {
          "output_type": "execute_result",
          "data": {
            "text/plain": [
              "array([ 0, -2,  1, -1])"
            ]
          },
          "metadata": {},
          "execution_count": 78
        }
      ]
    },
    {
      "cell_type": "code",
      "source": [
        "A*3"
      ],
      "metadata": {
        "id": "1xzp4VmqDALN",
        "outputId": "7f5627f1-f891-4415-fbb2-42c5d1e47255",
        "colab": {
          "base_uri": "https://localhost:8080/"
        }
      },
      "execution_count": 79,
      "outputs": [
        {
          "output_type": "execute_result",
          "data": {
            "text/plain": [
              "array([ 9,  3, 12,  6])"
            ]
          },
          "metadata": {},
          "execution_count": 79
        }
      ]
    },
    {
      "cell_type": "code",
      "source": [
        "A + 3*B"
      ],
      "metadata": {
        "id": "OB2L5qy0DBQX",
        "outputId": "fe30bde8-7366-496a-f4ff-36b3c59c4eb2",
        "colab": {
          "base_uri": "https://localhost:8080/"
        }
      },
      "execution_count": 80,
      "outputs": [
        {
          "output_type": "execute_result",
          "data": {
            "text/plain": [
              "array([12, -2, 13,  8])"
            ]
          },
          "metadata": {},
          "execution_count": 80
        }
      ]
    },
    {
      "cell_type": "code",
      "source": [],
      "metadata": {
        "id": "Vmt3QfGjDGXG"
      },
      "execution_count": null,
      "outputs": []
    },
    {
      "cell_type": "markdown",
      "source": [
        "Numpy zawiera metody do wykonwyania działań."
      ],
      "metadata": {
        "id": "aICLyP0lDJro"
      }
    },
    {
      "cell_type": "code",
      "source": [
        "np.add(A, B) #dodawanie dwóch tablic"
      ],
      "metadata": {
        "id": "If4-a-e6DPCX",
        "outputId": "045d8904-3258-4109-d2f9-fd74d1219af5",
        "colab": {
          "base_uri": "https://localhost:8080/"
        }
      },
      "execution_count": 81,
      "outputs": [
        {
          "output_type": "execute_result",
          "data": {
            "text/plain": [
              "array([6, 0, 7, 4])"
            ]
          },
          "metadata": {},
          "execution_count": 81
        }
      ]
    },
    {
      "cell_type": "code",
      "source": [
        "np.subtract(A, B) #odejmowanie"
      ],
      "metadata": {
        "id": "gUc8ZtYQDRtl",
        "outputId": "6b010505-1712-4d86-ee7d-42a3956367a2",
        "colab": {
          "base_uri": "https://localhost:8080/"
        }
      },
      "execution_count": 82,
      "outputs": [
        {
          "output_type": "execute_result",
          "data": {
            "text/plain": [
              "array([0, 2, 1, 0])"
            ]
          },
          "metadata": {},
          "execution_count": 82
        }
      ]
    },
    {
      "cell_type": "code",
      "source": [
        "np.multiply(A, B) #mnożenie"
      ],
      "metadata": {
        "id": "zNPiwjN6DYHL",
        "outputId": "f8d3de85-0c27-4f89-fd60-e90bac886e4c",
        "colab": {
          "base_uri": "https://localhost:8080/"
        }
      },
      "execution_count": 83,
      "outputs": [
        {
          "output_type": "execute_result",
          "data": {
            "text/plain": [
              "array([ 9, -1, 12,  4])"
            ]
          },
          "metadata": {},
          "execution_count": 83
        }
      ]
    },
    {
      "cell_type": "code",
      "source": [
        "np.divide(A, B) #dzielenie"
      ],
      "metadata": {
        "id": "mPORhjEjDceP",
        "outputId": "2fdd3c53-7247-4c8a-9b0c-3bd947cf3ce4",
        "colab": {
          "base_uri": "https://localhost:8080/"
        }
      },
      "execution_count": 84,
      "outputs": [
        {
          "output_type": "execute_result",
          "data": {
            "text/plain": [
              "array([ 1.        , -1.        ,  1.33333333,  1.        ])"
            ]
          },
          "metadata": {},
          "execution_count": 84
        }
      ]
    },
    {
      "cell_type": "markdown",
      "source": [
        "MNOŻENIE MACIERZOWE:"
      ],
      "metadata": {
        "id": "uaHOyxhIDkMR"
      }
    },
    {
      "cell_type": "code",
      "source": [
        "X = np.array([[1, 3], [-2, 0]])\n",
        "Y = np.array([[6, 0], [-1, 2]])\n",
        "print(X, '\\n')\n",
        "print(Y)"
      ],
      "metadata": {
        "id": "wiKvbhhCDibC"
      },
      "execution_count": null,
      "outputs": []
    }
  ]
}