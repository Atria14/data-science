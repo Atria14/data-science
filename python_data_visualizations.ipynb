{
  "metadata": {
    "kernelspec": {
      "language": "python",
      "display_name": "Python 3",
      "name": "python3"
    },
    "language_info": {
      "name": "python",
      "version": "3.7.12",
      "mimetype": "text/x-python",
      "codemirror_mode": {
        "name": "ipython",
        "version": 3
      },
      "pygments_lexer": "ipython3",
      "nbconvert_exporter": "python",
      "file_extension": ".py"
    },
    "colab": {
      "provenance": [],
      "include_colab_link": true
    }
  },
  "nbformat_minor": 0,
  "nbformat": 4,
  "cells": [
    {
      "cell_type": "markdown",
      "metadata": {
        "id": "view-in-github",
        "colab_type": "text"
      },
      "source": [
        "<a href=\"https://colab.research.google.com/github/Atria14/data-science/blob/main/python_data_visualizations.ipynb\" target=\"_parent\"><img src=\"https://colab.research.google.com/assets/colab-badge.svg\" alt=\"Open In Colab\"/></a>"
      ]
    },
    {
      "cell_type": "markdown",
      "source": [
        "## This notebook demos Python data visualizations on the Iris dataset\n",
        "\n",
        "This Python 3 environment comes with many helpful analytics libraries installed. It is defined by the [kaggle/python docker image](https://github.com/kaggle/docker-python)\n",
        "\n",
        "We'll use three libraries for this tutorial: [pandas](http://pandas.pydata.org/), [matplotlib](http://matplotlib.org/), and [seaborn](http://stanford.edu/~mwaskom/software/seaborn/).\n",
        "\n",
        "Press \"Fork\" at the top-right of this screen to run this notebook yourself and build each of the examples."
      ],
      "metadata": {
        "_cell_guid": "e748dd89-de20-44f2-a122-b2bb69fbab24",
        "_uuid": "a42ede279bffeecdddd64047e06fee4b9aed50c5",
        "id": "cJVmH1e_DqCE"
      }
    },
    {
      "cell_type": "code",
      "source": [
        "# First, we'll import pandas, a data processing and CSV file I/O library\n",
        "import pandas as pd\n",
        "\n",
        "# We'll also import seaborn, a Python graphing library\n",
        "import warnings # current version of seaborn generates a bunch of warnings that we'll ignore\n",
        "warnings.filterwarnings(\"ignore\")\n",
        "import seaborn as sns\n",
        "import matplotlib.pyplot as plt\n",
        "sns.set(style=\"white\", color_codes=True)\n",
        "\n",
        "# Next, we'll load the Iris flower dataset, which is in the \"../input/\" directory\n",
        "iris = pd.read_csv(\"Iris.csv\") # the iris dataset is now a Pandas DataFrame\n",
        "\n",
        "# Let's see what's in the iris data - Jupyter notebooks print the result of the last thing you do\n",
        "iris.head()\n",
        "\n",
        "# Press shift+enter to execute this cell"
      ],
      "metadata": {
        "_cell_guid": "136008bf-b756-49c1-bc5e-81c1247b969d",
        "_uuid": "4a72555be32be45a318141821b58ceac28ffb0d7",
        "execution": {
          "iopub.status.busy": "2022-12-30T12:40:07.218179Z",
          "iopub.execute_input": "2022-12-30T12:40:07.218547Z",
          "iopub.status.idle": "2022-12-30T12:40:07.236802Z",
          "shell.execute_reply.started": "2022-12-30T12:40:07.218516Z",
          "shell.execute_reply": "2022-12-30T12:40:07.235650Z"
        },
        "trusted": true,
        "colab": {
          "base_uri": "https://localhost:8080/",
          "height": 206
        },
        "id": "xXZ5QDiQDqCJ",
        "outputId": "9740cc41-f528-4b3c-ad19-d860e26035e4"
      },
      "execution_count": 2,
      "outputs": [
        {
          "output_type": "execute_result",
          "data": {
            "text/plain": [
              "   Id  SepalLengthCm  SepalWidthCm  PetalLengthCm  PetalWidthCm      Species\n",
              "0   1            5.1           3.5            1.4           0.2  Iris-setosa\n",
              "1   2            4.9           3.0            1.4           0.2  Iris-setosa\n",
              "2   3            4.7           3.2            1.3           0.2  Iris-setosa\n",
              "3   4            4.6           3.1            1.5           0.2  Iris-setosa\n",
              "4   5            5.0           3.6            1.4           0.2  Iris-setosa"
            ],
            "text/html": [
              "\n",
              "  <div id=\"df-1953fa6e-67a4-4128-ad2f-d1b18a8e0b62\">\n",
              "    <div class=\"colab-df-container\">\n",
              "      <div>\n",
              "<style scoped>\n",
              "    .dataframe tbody tr th:only-of-type {\n",
              "        vertical-align: middle;\n",
              "    }\n",
              "\n",
              "    .dataframe tbody tr th {\n",
              "        vertical-align: top;\n",
              "    }\n",
              "\n",
              "    .dataframe thead th {\n",
              "        text-align: right;\n",
              "    }\n",
              "</style>\n",
              "<table border=\"1\" class=\"dataframe\">\n",
              "  <thead>\n",
              "    <tr style=\"text-align: right;\">\n",
              "      <th></th>\n",
              "      <th>Id</th>\n",
              "      <th>SepalLengthCm</th>\n",
              "      <th>SepalWidthCm</th>\n",
              "      <th>PetalLengthCm</th>\n",
              "      <th>PetalWidthCm</th>\n",
              "      <th>Species</th>\n",
              "    </tr>\n",
              "  </thead>\n",
              "  <tbody>\n",
              "    <tr>\n",
              "      <th>0</th>\n",
              "      <td>1</td>\n",
              "      <td>5.1</td>\n",
              "      <td>3.5</td>\n",
              "      <td>1.4</td>\n",
              "      <td>0.2</td>\n",
              "      <td>Iris-setosa</td>\n",
              "    </tr>\n",
              "    <tr>\n",
              "      <th>1</th>\n",
              "      <td>2</td>\n",
              "      <td>4.9</td>\n",
              "      <td>3.0</td>\n",
              "      <td>1.4</td>\n",
              "      <td>0.2</td>\n",
              "      <td>Iris-setosa</td>\n",
              "    </tr>\n",
              "    <tr>\n",
              "      <th>2</th>\n",
              "      <td>3</td>\n",
              "      <td>4.7</td>\n",
              "      <td>3.2</td>\n",
              "      <td>1.3</td>\n",
              "      <td>0.2</td>\n",
              "      <td>Iris-setosa</td>\n",
              "    </tr>\n",
              "    <tr>\n",
              "      <th>3</th>\n",
              "      <td>4</td>\n",
              "      <td>4.6</td>\n",
              "      <td>3.1</td>\n",
              "      <td>1.5</td>\n",
              "      <td>0.2</td>\n",
              "      <td>Iris-setosa</td>\n",
              "    </tr>\n",
              "    <tr>\n",
              "      <th>4</th>\n",
              "      <td>5</td>\n",
              "      <td>5.0</td>\n",
              "      <td>3.6</td>\n",
              "      <td>1.4</td>\n",
              "      <td>0.2</td>\n",
              "      <td>Iris-setosa</td>\n",
              "    </tr>\n",
              "  </tbody>\n",
              "</table>\n",
              "</div>\n",
              "      <button class=\"colab-df-convert\" onclick=\"convertToInteractive('df-1953fa6e-67a4-4128-ad2f-d1b18a8e0b62')\"\n",
              "              title=\"Convert this dataframe to an interactive table.\"\n",
              "              style=\"display:none;\">\n",
              "        \n",
              "  <svg xmlns=\"http://www.w3.org/2000/svg\" height=\"24px\"viewBox=\"0 0 24 24\"\n",
              "       width=\"24px\">\n",
              "    <path d=\"M0 0h24v24H0V0z\" fill=\"none\"/>\n",
              "    <path d=\"M18.56 5.44l.94 2.06.94-2.06 2.06-.94-2.06-.94-.94-2.06-.94 2.06-2.06.94zm-11 1L8.5 8.5l.94-2.06 2.06-.94-2.06-.94L8.5 2.5l-.94 2.06-2.06.94zm10 10l.94 2.06.94-2.06 2.06-.94-2.06-.94-.94-2.06-.94 2.06-2.06.94z\"/><path d=\"M17.41 7.96l-1.37-1.37c-.4-.4-.92-.59-1.43-.59-.52 0-1.04.2-1.43.59L10.3 9.45l-7.72 7.72c-.78.78-.78 2.05 0 2.83L4 21.41c.39.39.9.59 1.41.59.51 0 1.02-.2 1.41-.59l7.78-7.78 2.81-2.81c.8-.78.8-2.07 0-2.86zM5.41 20L4 18.59l7.72-7.72 1.47 1.35L5.41 20z\"/>\n",
              "  </svg>\n",
              "      </button>\n",
              "      \n",
              "  <style>\n",
              "    .colab-df-container {\n",
              "      display:flex;\n",
              "      flex-wrap:wrap;\n",
              "      gap: 12px;\n",
              "    }\n",
              "\n",
              "    .colab-df-convert {\n",
              "      background-color: #E8F0FE;\n",
              "      border: none;\n",
              "      border-radius: 50%;\n",
              "      cursor: pointer;\n",
              "      display: none;\n",
              "      fill: #1967D2;\n",
              "      height: 32px;\n",
              "      padding: 0 0 0 0;\n",
              "      width: 32px;\n",
              "    }\n",
              "\n",
              "    .colab-df-convert:hover {\n",
              "      background-color: #E2EBFA;\n",
              "      box-shadow: 0px 1px 2px rgba(60, 64, 67, 0.3), 0px 1px 3px 1px rgba(60, 64, 67, 0.15);\n",
              "      fill: #174EA6;\n",
              "    }\n",
              "\n",
              "    [theme=dark] .colab-df-convert {\n",
              "      background-color: #3B4455;\n",
              "      fill: #D2E3FC;\n",
              "    }\n",
              "\n",
              "    [theme=dark] .colab-df-convert:hover {\n",
              "      background-color: #434B5C;\n",
              "      box-shadow: 0px 1px 3px 1px rgba(0, 0, 0, 0.15);\n",
              "      filter: drop-shadow(0px 1px 2px rgba(0, 0, 0, 0.3));\n",
              "      fill: #FFFFFF;\n",
              "    }\n",
              "  </style>\n",
              "\n",
              "      <script>\n",
              "        const buttonEl =\n",
              "          document.querySelector('#df-1953fa6e-67a4-4128-ad2f-d1b18a8e0b62 button.colab-df-convert');\n",
              "        buttonEl.style.display =\n",
              "          google.colab.kernel.accessAllowed ? 'block' : 'none';\n",
              "\n",
              "        async function convertToInteractive(key) {\n",
              "          const element = document.querySelector('#df-1953fa6e-67a4-4128-ad2f-d1b18a8e0b62');\n",
              "          const dataTable =\n",
              "            await google.colab.kernel.invokeFunction('convertToInteractive',\n",
              "                                                     [key], {});\n",
              "          if (!dataTable) return;\n",
              "\n",
              "          const docLinkHtml = 'Like what you see? Visit the ' +\n",
              "            '<a target=\"_blank\" href=https://colab.research.google.com/notebooks/data_table.ipynb>data table notebook</a>'\n",
              "            + ' to learn more about interactive tables.';\n",
              "          element.innerHTML = '';\n",
              "          dataTable['output_type'] = 'display_data';\n",
              "          await google.colab.output.renderOutput(dataTable, element);\n",
              "          const docLink = document.createElement('div');\n",
              "          docLink.innerHTML = docLinkHtml;\n",
              "          element.appendChild(docLink);\n",
              "        }\n",
              "      </script>\n",
              "    </div>\n",
              "  </div>\n",
              "  "
            ]
          },
          "metadata": {},
          "execution_count": 2
        }
      ]
    },
    {
      "cell_type": "code",
      "source": [
        "# Let's see how many examples we have of each species\n",
        "iris[\"Species\"].value_counts()"
      ],
      "metadata": {
        "_cell_guid": "5dba36af-1bb8-49e5-9b49-1451f4136246",
        "_uuid": "ef33a54d1e704924d1eb29632728011d31bfb543",
        "colab": {
          "base_uri": "https://localhost:8080/"
        },
        "id": "B5yukBjKDqCN",
        "outputId": "7ba4975b-69bc-4a58-d8e4-747bcc13b78f"
      },
      "execution_count": 3,
      "outputs": [
        {
          "output_type": "execute_result",
          "data": {
            "text/plain": [
              "Iris-setosa        50\n",
              "Iris-versicolor    50\n",
              "Iris-virginica     50\n",
              "Name: Species, dtype: int64"
            ]
          },
          "metadata": {},
          "execution_count": 3
        }
      ]
    },
    {
      "cell_type": "code",
      "source": [
        "# The first way we can plot things is using the .plot extension from Pandas dataframes\n",
        "# We'll use this to make a scatterplot of the Iris features.\n",
        "iris.plot(kind=\"scatter\", x=\"SepalLengthCm\", y=\"SepalWidthCm\")"
      ],
      "metadata": {
        "_cell_guid": "b8588972-deb5-4094-99a6-5feb722e3301",
        "_uuid": "b61dbe844a638b1b26e0c3f16a104570d4b60010",
        "colab": {
          "base_uri": "https://localhost:8080/",
          "height": 343
        },
        "id": "a5ITi7QmDqCP",
        "outputId": "015aeb4e-5572-4b12-dc43-9c6f72fe5054"
      },
      "execution_count": 4,
      "outputs": [
        {
          "output_type": "stream",
          "name": "stderr",
          "text": [
            "WARNING:matplotlib.axes._axes:*c* argument looks like a single numeric RGB or RGBA sequence, which should be avoided as value-mapping will have precedence in case its length matches with *x* & *y*.  Please use the *color* keyword-argument or provide a 2-D array with a single row if you intend to specify the same RGB or RGBA value for all points.\n"
          ]
        },
        {
          "output_type": "execute_result",
          "data": {
            "text/plain": [
              "<matplotlib.axes._subplots.AxesSubplot at 0x7f1e59c641c0>"
            ]
          },
          "metadata": {},
          "execution_count": 4
        },
        {
          "output_type": "display_data",
          "data": {
            "text/plain": [
              "<Figure size 432x288 with 1 Axes>"
            ],
            "image/png": "[encoded data removed]"
          },
          "metadata": {}
        }
      ]
    },
    {
      "cell_type": "code",
      "source": [
        "# We can also use the seaborn library to make a similar plot\n",
        "# A seaborn jointplot shows bivariate scatterplots and univariate histograms in the same figure\n",
        "sns.jointplot(x=\"SepalLengthCm\", y=\"SepalWidthCm\", data=iris, size=5)"
      ],
      "metadata": {
        "_cell_guid": "dc213965-5341-4ce7-ad13-42eb5e2fa1e7",
        "_uuid": "81da4a44d4ec41f5c7acd172c75df2f47884a13e",
        "colab": {
          "base_uri": "https://localhost:8080/",
          "height": 383
        },
        "id": "iti85LsODqCR",
        "outputId": "68adefce-ca60-4299-f29e-d2fce421f60b"
      },
      "execution_count": 5,
      "outputs": [
        {
          "output_type": "execute_result",
          "data": {
            "text/plain": [
              "<seaborn.axisgrid.JointGrid at 0x7f1e690cd6a0>"
            ]
          },
          "metadata": {},
          "execution_count": 5
        },
        {
          "output_type": "display_data",
          "data": {
            "text/plain": [
              "<Figure size 360x360 with 3 Axes>"
            ],
            "image/png": "[encoded data removed]"
          },
          "metadata": {}
        }
      ]
    },
    {
      "cell_type": "code",
      "source": [
        "# One piece of information missing in the plots above is what species each plant is\n",
        "# We'll use seaborn's FacetGrid to color the scatterplot by species\n",
        "sns.FacetGrid(iris, hue=\"Species\", size=5) \\\n",
        "   .map(plt.scatter, \"SepalLengthCm\", \"SepalWidthCm\") \\\n",
        "   .add_legend()"
      ],
      "metadata": {
        "_cell_guid": "0a5c46f6-be6e-4ef6-94a4-9bea13c9a0aa",
        "_uuid": "d07401f715fa8f39951a6212bce668657d457fe1",
        "colab": {
          "base_uri": "https://localhost:8080/",
          "height": 383
        },
        "id": "p_Rhe36TDqCW",
        "outputId": "26b6dfea-a5b2-4ba0-e064-3d38a66401cd"
      },
      "execution_count": 6,
      "outputs": [
        {
          "output_type": "execute_result",
          "data": {
            "text/plain": [
              "<seaborn.axisgrid.FacetGrid at 0x7f1e56d831c0>"
            ]
          },
          "metadata": {},
          "execution_count": 6
        },
        {
          "output_type": "display_data",
          "data": {
            "text/plain": [
              "<Figure size 474.35x360 with 1 Axes>"
            ],
            "image/png": "[encoded data removed]"
          },
          "metadata": {}
        }
      ]
    },
    {
      "cell_type": "code",
      "source": [
        "# We can look at an individual feature in Seaborn through a boxplot\n",
        "sns.boxplot(x=\"Species\", y=\"PetalLengthCm\", data=iris)"
      ],
      "metadata": {
        "_cell_guid": "128245d5-6f01-44cd-8b2f-8a49735ac552",
        "_uuid": "01cb1b0849f6c7e800c8798164741a8fdae53617",
        "colab": {
          "base_uri": "https://localhost:8080/",
          "height": 303
        },
        "id": "pnsfDsaADqCY",
        "outputId": "80703969-016e-4578-cf10-7ecb27e4950b"
      },
      "execution_count": 7,
      "outputs": [
        {
          "output_type": "execute_result",
          "data": {
            "text/plain": [
              "<matplotlib.axes._subplots.AxesSubplot at 0x7f1e56daca90>"
            ]
          },
          "metadata": {},
          "execution_count": 7
        },
        {
          "output_type": "display_data",
          "data": {
            "text/plain": [
              "<Figure size 432x288 with 1 Axes>"
            ],
            "image/png": "[encoded data removed]"
          },
          "metadata": {}
        }
      ]
    },
    {
      "cell_type": "code",
      "source": [
        "# One way we can extend this plot is adding a layer of individual points on top of\n",
        "# it through Seaborn's striplot\n",
        "# \n",
        "# We'll use jitter=True so that all the points don't fall in single vertical lines\n",
        "# above the species\n",
        "#\n",
        "# Saving the resulting axes as ax each time causes the resulting plot to be shown\n",
        "# on top of the previous axes\n",
        "ax = sns.boxplot(x=\"Species\", y=\"PetalLengthCm\", data=iris)\n",
        "ax = sns.stripplot(x=\"Species\", y=\"PetalLengthCm\", data=iris, jitter=True, edgecolor=\"gray\")"
      ],
      "metadata": {
        "_cell_guid": "b86a675c-f604-496a-931a-df76d7d6aaa1",
        "_uuid": "a481595c1e46d625e887b61f5eb0e3c48269bde9",
        "id": "z1vGGRu2DqCZ"
      },
      "execution_count": null,
      "outputs": []
    },
    {
      "cell_type": "code",
      "source": [
        "# A violin plot combines the benefits of the previous two plots and simplifies them\n",
        "# Denser regions of the data are fatter, and sparser thiner in a violin plot\n",
        "sns.violinplot(x=\"Species\", y=\"PetalLengthCm\", data=iris, size=6)"
      ],
      "metadata": {
        "_cell_guid": "c49f199b-2798-4fdc-87a7-bd2f7f8ff447",
        "_uuid": "0d422fc672f3cfb30ec02d1345942cc583c51b05",
        "id": "gJRBNpygDqCb"
      },
      "execution_count": null,
      "outputs": []
    },
    {
      "cell_type": "code",
      "source": [
        "# A final seaborn plot useful for looking at univariate relations is the kdeplot,\n",
        "# which creates and visualizes a kernel density estimate of the underlying feature\n",
        "sns.FacetGrid(iris, hue=\"Species\", size=6) \\\n",
        "   .map(sns.kdeplot, \"PetalLengthCm\") \\\n",
        "   .add_legend()"
      ],
      "metadata": {
        "_cell_guid": "78c32fc8-3c36-482a-81f4-14d4b6ee1430",
        "_uuid": "b10aa16c47bdad1964d1746281564f68a5ab741e",
        "id": "ADZMxjX9DqCe"
      },
      "execution_count": null,
      "outputs": []
    },
    {
      "cell_type": "code",
      "source": [
        "# Another useful seaborn plot is the pairplot, which shows the bivariate relation\n",
        "# between each pair of features\n",
        "# \n",
        "# From the pairplot, we'll see that the Iris-setosa species is separataed from the other\n",
        "# two across all feature combinations\n",
        "sns.pairplot(iris.drop(\"Id\", axis=1), hue=\"Species\", size=3)"
      ],
      "metadata": {
        "_cell_guid": "7351999e-4522-451f-b3f1-0031c3a88eaa",
        "_uuid": "fb9e2f61bf81478f21489f1219358e2b6fa164dd",
        "id": "e73D3coODqCf"
      },
      "execution_count": null,
      "outputs": []
    },
    {
      "cell_type": "code",
      "source": [
        "# The diagonal elements in a pairplot show the histogram by default\n",
        "# We can update these elements to show other things, such as a kde\n",
        "sns.pairplot(iris.drop(\"Id\", axis=1), hue=\"Species\", size=3, diag_kind=\"kde\")"
      ],
      "metadata": {
        "_cell_guid": "3f1fb3ba-e0fd-45b4-8a64-fe2a689bb83b",
        "_uuid": "417d197016286a1af02eb522b3a0e0476e76b39b",
        "id": "6OY_XnVIDqCh"
      },
      "execution_count": null,
      "outputs": []
    },
    {
      "cell_type": "code",
      "source": [
        "# Now that we've covered seaborn, let's go back to some of the ones we can make with Pandas\n",
        "# We can quickly make a boxplot with Pandas on each feature split out by species\n",
        "iris.drop(\"Id\", axis=1).boxplot(by=\"Species\", figsize=(12, 6))"
      ],
      "metadata": {
        "_cell_guid": "46cceec5-3525-4b02-8ab7-5ed1420cd198",
        "_uuid": "d7fb122f77031cc79ab0e922608d9e6c5de774ca",
        "id": "qrObaJ0WDqCi"
      },
      "execution_count": null,
      "outputs": []
    },
    {
      "cell_type": "code",
      "source": [
        "# One cool more sophisticated technique pandas has available is called Andrews Curves\n",
        "# Andrews Curves involve using attributes of samples as coefficients for Fourier series\n",
        "# and then plotting these\n",
        "from pandas.tools.plotting import andrews_curves\n",
        "andrews_curves(iris.drop(\"Id\", axis=1), \"Species\")"
      ],
      "metadata": {
        "_cell_guid": "5bbed28c-d813-41c4-824d-7038fbfee6ea",
        "_uuid": "61c76e99340b06c8020151ae4b8942e1daa8b1ef",
        "id": "L-O5JIP3DqCj"
      },
      "execution_count": null,
      "outputs": []
    },
    {
      "cell_type": "code",
      "source": [
        "# Another multivariate visualization technique pandas has is parallel_coordinates\n",
        "# Parallel coordinates plots each feature on a separate column & then draws lines\n",
        "# connecting the features for each data sample\n",
        "from pandas.tools.plotting import parallel_coordinates\n",
        "parallel_coordinates(iris.drop(\"Id\", axis=1), \"Species\")"
      ],
      "metadata": {
        "_cell_guid": "77c1b6f0-7632-4d61-bf03-7b5d6856b987",
        "_uuid": "b9ac80fdd71c270c9991d34ca87f70d6b00b2192",
        "id": "Lo0MINejDqCk"
      },
      "execution_count": null,
      "outputs": []
    },
    {
      "cell_type": "code",
      "source": [
        "# A final multivariate visualization technique pandas has is radviz\n",
        "# Which puts each feature as a point on a 2D plane, and then simulates\n",
        "# having each sample attached to those points through a spring weighted\n",
        "# by the relative value for that feature\n",
        "from pandas.tools.plotting import radviz\n",
        "radviz(iris.drop(\"Id\", axis=1), \"Species\")"
      ],
      "metadata": {
        "_cell_guid": "d5c6314f-7b36-41ce-b0bd-e2ef17941f97",
        "_uuid": "38b7de27f1f882347de21193d93bf474f96c2288",
        "id": "VQK7mM4rDqCk"
      },
      "execution_count": null,
      "outputs": []
    },
    {
      "cell_type": "markdown",
      "source": [
        "# Wrapping Up\n",
        "\n",
        "I hope you enjoyed this quick introduction to some of the quick, simple data visualizations you can create with pandas, seaborn, and matplotlib in Python!\n",
        "\n",
        "I encourage you to run through these examples yourself, tweaking them and seeing what happens. From there, you can try applying these methods to a new dataset and incorprating them into your own workflow!\n",
        "\n",
        "See [Kaggle Datasets](https://www.kaggle.com/datasets) for other datasets to try visualizing. The [World Food Facts data](https://www.kaggle.com/openfoodfacts/world-food-facts) is an especially rich one for visualization."
      ],
      "metadata": {
        "_cell_guid": "0263903e-4c3f-41c5-adf6-a1a12c122ddb",
        "_uuid": "a47be9b234eb942e71425b3e00b741a41488ea33",
        "id": "4g5JF4EMDqCm"
      }
    }
  ]
}